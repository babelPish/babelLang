{
 "cells": [
  {
   "cell_type": "markdown",
   "metadata": {},
   "source": [
    "#  FastText \n",
    "\n",
    "** Facebook’s library for fast text representation and classification **"
   ]
  },
  {
   "cell_type": "markdown",
   "metadata": {},
   "source": [
    "페이스북이 텍스트의 벡터 표현과 분류를 위한 라이브러리 fastText를 깃허브에 공개했습니다. \n",
    "\n",
    "이 라이브러리는 페이스북의 시스템들과 연관되어 있지 않아 독립적으로 다운받아 사용할 수 있습니다. \n",
    "\n",
    "C++11 표준으로 개발되어 있어서 비교적 최신의 C 컴파일러가 있어야 빌드할 수 있습니다. \n",
    "\n",
    "자세한 문서는 없지만 깃허브 README 파일에 프로그램 옵션에 대한 설명과 모델을 만들어 파일로 저장하고 이를 재 사용하여 분류를 할 수 있는 간단한 예가 나와 있습니다. \n",
    "\n",
    "\n",
    "이 라이브러리에 관련된 페이퍼는 벡터 표현과 분류에 대해 지난 달에 각각 공개되었습니다.\n",
    "\n",
    "** Enriching Word Vectors with Subword Information **\n",
    "\n",
    "https://arxiv.org/pdf/1607.04606.pdf\n",
    "\n",
    "\n",
    "\n",
    "** Bag of Tricks for Efficient Text Classification **\n",
    "\n",
    "https://arxiv.org/pdf/1607.01759.pdf\n",
    "\n",
    "\n",
    "\n",
    "- 페이스북이 미리 학습시킨 90개의 언어 모델 공개\n",
    "\n",
    "https://github.com/facebookresearch/fastText/blob/master/pretrained-vectors.md\n",
    "\n",
    "\n",
    "\n"
   ]
  },
  {
   "cell_type": "markdown",
   "metadata": {},
   "source": [
    "### 패스트북, '개발 문턱 낮춘' 오픈소스 머신러닝 프로젝트 패스트텍스트 공개\n",
    "\n",
    "\n",
    "페이스북이 화요일 모바일 앱이 텍스트를 이해하는 오픈소스 프로젝트를 개발자들에게 공개했다. \n",
    "\n",
    "페이스북 AI 리서치 그룹은 개발자들이 텍스트 중심의 머신러닝 시스템을 더욱 쉽게 배포할 수 있는 프로그래밍 라이브러리 패스트텍스트(FastText) 새 버전을 출시했다.\n",
    "\n",
    "연구자들이 FastText.zip이라고 부르는 이 기술은 비압축 모델에서 얻을 수 있는 정확성을 그대로 유지하면서 언어인식 모델을 압축하고 메모리 크기를 두 배 이상 줄이는 기술이다. \n",
    "\n",
    "스마트폰과 라즈베리 파이 등 가벼운 기기에 이런 압축 모델을 배포하면 더욱 다양한 애플리케이션에서 유용하게 사용할 수 있다.\n",
    "\n",
    "또, 페이스북은 개발자가 패스트텍스트를 사용할 때 참고할 수 있는 튜토리얼을 발간헀다. 문제를 단순화하기 위해 사전에 훈련된 약 300개의 언어 집합을 발표하기도 했다.\n",
    "\n",
    "패스트텍스트의 목표는 프로그래밍 배경 지식이 얕은 사람들도 더 쉽게 텍스트 분류(단어 집합을 범주로 지정하는 과정)와 텍스트 표현(구조화되지 않은 텍스트를 연산용 숫자로 변환하는 과정)을 할 수 있도록 지원하는 것이다.\n",
    "\n",
    "페이스북 리서치 과학자인 아르망 줄린은 “패스트텍스트 기술은 텍스트 라이브러리와 관련된 머신러닝 기술의 문제를 해결할 때 쉽게 접근할 수 있는 라이브러리”라고 정의했다.\n",
    "\n",
    "패스트텍스트는 페이스북의 패스트텍스트 부서가 맡아 기존 기술을 활용하고 일상적인 업무를 하는 개발자도 쉽게 액세스하는 데에 초점을 두었다. 따라서 데이터 과학 분야 학위가 없는 비전문가라도 앱에서 머신러닝 기술을 구현하기가 더욱 편리해진 것이 특징이다.\n",
    "\n",
    "예를 들어 패스트텍스트는 해시태그 자동 완성 등의 기능을 강화할 수 있어 사용자가 소셜미디어 게시물에 관련 태그를 더 빨리 추가할 수 있다. 또, 정서 분석을 지원해 프로그램 사용자들의 태도가 긍정적인지 부정적인지도 파악할 수 있다.\n",
    "\n",
    "페이스북 포스트닥터 과정의 에두아르 그레이브에 따르면, 패스트텍스트는 다양한 언어를 처리할 수 있도록 설계되었다. 그레이브는 특히 패스트텍스트가 다른 시스템과 충돌할 수 있는 독일어, 프랑스어 같은 언어도 처리한다고 덧붙였다\n",
    "\n",
    "\n",
    "원문보기: \n",
    "http://www.itworld.co.kr/news/104648#csidx2c4600a6e17e6eb9aef5aecdfa5686f "
   ]
  },
  {
   "cell_type": "code",
   "execution_count": null,
   "metadata": {
    "collapsed": true
   },
   "outputs": [],
   "source": []
  },
  {
   "cell_type": "markdown",
   "metadata": {},
   "source": [
    "# Fast Text 모 델\n",
    "\n",
    "FastText모델 같은 경우는 skip-gram모델을 변형한 모델이라고 할 수 있다.\t \n",
    "\n",
    "마찬가지로 타겟이 되는 단어를 기준으로 앞뒤 문맥으로 나타나는 단어들을 맞추도록\n",
    "학습하는 모델이지만,\t 단어가 가지는 형태적인 정보 또한 유사도 함수를 바꿈으로서 학습이 가능 할 수\n",
    "있도록 개선한 모델이다.\t \n",
    "\n",
    "새로운 유사도 함수의 계산을 위해 본 모델에서는 **단어를\t n-그램의 Bag-of-Words\n",
    "(BoWs)로 나타낸다.**\t \n",
    "또한 단어 시작과 끝에 각각 <,\t >부호를 구분자 역할로 넣는다.\t \n",
    "\n",
    "구분자를 포함한 전체단어 역시 BoW에 포함시켜 전체적인 의미를 학습 할 수 있도록 한다.\t \n",
    "\n",
    "n=3일때\t ‘소프트웨어’라는 단어의 Bow로, 예를 들면 다음과 같이 표현 할 수 있다.\t\n",
    "\n",
    "\n",
    "![ex_screenshot](./fasttext_paper/pic1.png)\n",
    "위의 Bow를 이용해서 새로운 scoring 함수를 다음과 같이 정의한다.\n",
    "\n",
    "![ex_screenshot](./fasttext_paper/pic2.png)\n",
    "\n",
    "![ex_screenshot](./fasttext_paper/pic3.png)"
   ]
  },
  {
   "cell_type": "markdown",
   "metadata": {},
   "source": [
    "페이스북이 2016년 발표한 Fasttext는 원래 단어를 부분단어(subword)의 벡터들로 표현한다는 점을 제외하고는 Word2Vec과 거의 유사합니다. 노이즈가 많은 말뭉치에 강점을 지닌 것으로 알려져 있습니다.\n"
   ]
  },
  {
   "cell_type": "markdown",
   "metadata": {},
   "source": [
    " **형태소를 고려하기 위해 각 단어를 문자 ngram으로 표현하고 그 벡터 표현을 학습함**"
   ]
  },
  {
   "cell_type": "code",
   "execution_count": null,
   "metadata": {
    "collapsed": true
   },
   "outputs": [],
   "source": []
  },
  {
   "cell_type": "markdown",
   "metadata": {},
   "source": [
    "## 함수 설치하기\n",
    "\n",
    "FastText는 파이썬 gensim 패키지 내에 포함돼 주목을 받았는데요. 이상하게 제 컴퓨터 환경에서는 지속적으로 에러가 나서, 저는 페이스북에서 제공하는 C++ 기반 버전을 사용하였습니다. 이 블로그는 이 버전을 기준으로 설명할 예정입니다. 어쨌든 아래와 같은 터미널 명령어로 fastText를 내려받아 컴파일하면 바로 사용할 수 있는 상태가 됩니다.\n",
    "\n",
    "설치하고자 하는 디렉토리에서 다음을 실행\n"
   ]
  },
  {
   "cell_type": "code",
   "execution_count": null,
   "metadata": {},
   "outputs": [],
   "source": [
    "!pwd"
   ]
  },
  {
   "cell_type": "code",
   "execution_count": null,
   "metadata": {},
   "outputs": [],
   "source": [
    "!git clone https://github.com/facebookresearch/fastText.git"
   ]
  },
  {
   "cell_type": "code",
   "execution_count": null,
   "metadata": {
    "collapsed": true
   },
   "outputs": [],
   "source": [
    "!cd fastText"
   ]
  },
  {
   "cell_type": "code",
   "execution_count": null,
   "metadata": {},
   "outputs": [],
   "source": [
    "!pwd"
   ]
  },
  {
   "cell_type": "code",
   "execution_count": null,
   "metadata": {},
   "outputs": [],
   "source": [
    "!make"
   ]
  },
  {
   "cell_type": "code",
   "execution_count": null,
   "metadata": {
    "collapsed": true
   },
   "outputs": [],
   "source": [
    "이 버전은 Mac OS와 Linux 환경에서만 실행 가능합니다"
   ]
  },
  {
   "cell_type": "code",
   "execution_count": null,
   "metadata": {
    "collapsed": true
   },
   "outputs": [],
   "source": []
  },
  {
   "cell_type": "markdown",
   "metadata": {},
   "source": [
    "## 입력값 준비\n",
    "\n",
    "FastText의 입력값은 utf-8 인코딩 기반의 텍스트 파일입니다. \n",
    "\n",
    "라인(line) 하나당 하나의 문서가 되도록 저장해 두면 됩니다. \n",
    "\n",
    "맥을 쓰는 저는 데스크탑 폴더 밑에 fasttext 폴더를 만들어 여기에 실행파일들을 컴파일 해놓고, 데스크탑 폴더엔 다음과 같은 영화 리뷰를 ‘kor’라는 이름으로 저장해 두었습니다."
   ]
  },
  {
   "cell_type": "code",
   "execution_count": null,
   "metadata": {
    "collapsed": true
   },
   "outputs": [],
   "source": []
  },
  {
   "cell_type": "code",
   "execution_count": null,
   "metadata": {},
   "outputs": [],
   "source": [
    "# -*- coding: utf-8 -*-\n",
    "path = 'law.txt'\n",
    "with open(path, 'rb') as f:\n",
    "    buf  = f.read()\n",
    "    print(buf)"
   ]
  },
  {
   "cell_type": "code",
   "execution_count": null,
   "metadata": {},
   "outputs": [],
   "source": [
    "import chardet\n",
    "#doc = doc.encode('utf-8')\n",
    "#print( doc )\n",
    "# 인코딩 알아내기\n",
    "print (chardet.detect (buf))"
   ]
  },
  {
   "cell_type": "code",
   "execution_count": null,
   "metadata": {},
   "outputs": [],
   "source": [
    "#buf = buf.encode('utf-8')\n",
    "\n",
    "utf_bytes = str(buf,'EUC-KR').encode('utf-8')\n",
    "#파이썬 3.x 에서는 unicode 함수가 없어지고 아래와 같이 인코딩합니다."
   ]
  },
  {
   "cell_type": "code",
   "execution_count": null,
   "metadata": {},
   "outputs": [],
   "source": [
    "print(utf_bytes)"
   ]
  },
  {
   "cell_type": "code",
   "execution_count": null,
   "metadata": {},
   "outputs": [],
   "source": [
    "print (chardet.detect (utf_bytes))"
   ]
  },
  {
   "cell_type": "code",
   "execution_count": null,
   "metadata": {},
   "outputs": [],
   "source": [
    "f = open('model.txt', 'w') "
   ]
  },
  {
   "cell_type": "code",
   "execution_count": null,
   "metadata": {},
   "outputs": [],
   "source": [
    "f.write(str(utf_bytes)) "
   ]
  },
  {
   "cell_type": "code",
   "execution_count": null,
   "metadata": {
    "collapsed": true
   },
   "outputs": [],
   "source": [
    "f.close()"
   ]
  },
  {
   "cell_type": "code",
   "execution_count": null,
   "metadata": {
    "collapsed": true
   },
   "outputs": [],
   "source": []
  },
  {
   "cell_type": "code",
   "execution_count": null,
   "metadata": {
    "collapsed": true
   },
   "outputs": [],
   "source": []
  },
  {
   "cell_type": "markdown",
   "metadata": {},
   "source": [
    "## 단어벡터 학습\n",
    "\n",
    "C++ 기반의 FastText는 터미널에서 실행 가능합니다. \n",
    "\n",
    "학습말뭉치 파일과 결과 파일 두 가지만 지정하면 나머지는 FastText가 알아서 해줍니다. \n",
    "\n",
    "저의 경우 맥 데스크톱 폴더에서 실행했기 때문에 맨 앞에 ‘/fastText/’라는 경로를 지정했습니다.\n"
   ]
  },
  {
   "cell_type": "code",
   "execution_count": null,
   "metadata": {},
   "outputs": [],
   "source": [
    "! ./fastText/fasttext -input kor -output kor_model"
   ]
  },
  {
   "cell_type": "markdown",
   "metadata": {},
   "source": [
    "하지만 몇 가지 추가로 옵션을 지정해주면 더욱 좋겠죠. \n",
    "\n",
    "CBOW보다는 SkipGram 모델의 성능이 나은걸로 알려져 있기 때문에 임베딩 기법은 SG를, \n",
    "\n",
    "단어벡터의 차원수는 100을, \n",
    "\n",
    "양옆 단어는 세개씩 보되, \n",
    "\n",
    "말뭉치에 100번 이상 나온 단어들만 임베딩하고 싶다면 다음과 같이 실행하면 됩니다."
   ]
  },
  {
   "cell_type": "markdown",
   "metadata": {},
   "source": [
    "다음은 FastText의 파라메터 목록입니다. \n",
    "\n",
    "여기에서 input, output은 사용자가 지정하지 않으면 실행이 되지 않기 때문에 반드시 입력해주어야 합니다."
   ]
  },
  {
   "cell_type": "code",
   "execution_count": 4,
   "metadata": {},
   "outputs": [
    {
     "name": "stdout",
     "output_type": "stream",
     "text": [
      "Read 0M words\n",
      "Number of words:  266\n",
      "Number of labels: 0\n",
      "Progress: 100.0% words/sec/thread:     150 lr:  0.000000 loss:  0.000000 ETA:   0h 0m\n"
     ]
    }
   ],
   "source": [
    "! ./fastText/fasttext skipgram -input law_utf8.txt -output kor_model -dim 50 -ws 3 -minCount 1"
   ]
  },
  {
   "cell_type": "markdown",
   "metadata": {},
   "source": [
    "## 학습결과 확인\n",
    "\n",
    "학습이 끝나면 gensim 패키지의 Word2Vec처럼 파이썬 콘솔에서 결과를 확인할 수 있습니다. 다음과 같이 불러오면 됩니다.\n",
    "\n",
    "binary 형태의 임베딩은 gensim 이라는 라이브러리를 사용해야합니다"
   ]
  },
  {
   "cell_type": "code",
   "execution_count": 5,
   "metadata": {},
   "outputs": [],
   "source": [
    "#-*- coding: utf-8 -*-\n",
    "from gensim.models import KeyedVectors\n",
    "#model = KeyedVectors.load_word2vec_format('wiki.ko.vec') \n",
    "model = KeyedVectors.load_word2vec_format('kor_model.vec') "
   ]
  },
  {
   "cell_type": "markdown",
   "metadata": {},
   "source": [
    "임베딩된 단어의 리스트나 단어벡터를 뽑는 것은 다음과 같이 하면 됩니다."
   ]
  },
  {
   "cell_type": "code",
   "execution_count": 6,
   "metadata": {
    "collapsed": true
   },
   "outputs": [],
   "source": [
    "# 단어 리스트 작성\n",
    "vocab = model.index2word\n",
    "\n",
    "# 전체 단어벡터 추출\n",
    "wordvectors = []\n",
    "for v in vocab:\n",
    "    wordvectors.append(model.wv[v])"
   ]
  },
  {
   "cell_type": "markdown",
   "metadata": {},
   "source": [
    "쿼리단어 기준으로 가장 유사한 단어 리스트를 뽑는 것도 gensim의 Word2Vec과 완전히 동일합니다."
   ]
  },
  {
   "cell_type": "code",
   "execution_count": 7,
   "metadata": {},
   "outputs": [
    {
     "name": "stdout",
     "output_type": "stream",
     "text": [
      "['</s>', '수', '생활을', '받을', '성년의', '부양을', '없는', '자력', '상대로', '경우에', '의하여', '자의', '부모를', '부양료를', '또는', '근로에', '하는', '청구할', '민법', '통상적인', '같은', '있을', '내용으로', '것을', '부모가', '자기의', '자녀가', '제974조', '제1호,', '생활에', '부양의무자의', '생활필요비라고', '제반', '보기', '충당을', '제975조에', '유지할', '어려운', '대하여', '사정을', '제826조', '결정', '12.', '유학비용의', '대법원', '그', '등', '위해', '청구인이', '유지를', '가능하게', '부부공동생활의', '보장하여', '정도로', '제1차', '부양의무이고,', '반면', '생활과', '자녀에', '의무로서', '직계혈족으로서', '본질적', '혼인관계의', '상호부양의무는', '따라', '부담하는', '부양의무는', '부양의무자가', '부부간', '사회적', '지위에', '상응하는', '하면서', '포함한', '여유가', '있음을', '전제로', '하여', '자가', '등을', '양육·교육', '자녀의', '미성년', '규정하는', '제1항에서', '(소송대리인', '한하여', '그의', '지원하는', '제2차', '문】', '따라서', '자녀는', '요부양상태,', '즉', '객관적으로', '보아', '생활비', '수요가', '충당할', '곤궁한', '상태인', '한하여,', '재항고를', '부양할', '할', '한도', '내에서', '생활부조로서', '생활필요비에', '해당하는', '뿐이다.', '나아가', '이러한', '부양료는', '생활정도와', '기타', '미국', '부양료', '참작하여', '필요한', '비용의', '범위로', '한정됨이', '원칙이므로,', '특별한', '사정이', '한', '수는', '없다.', '및', '2013스96', '30.자', '8.', '청구인의', '2012.', '비추어', '27.', '선고', '2011다96932', '2013.', '235)', '판결(공2013상,', '【참조판례】', '제975조', '제1항,', '【참조조문】', '【전', '부양의무이다.', '【청구인,', '재항고인】', '청구인', '【결정요지】', '변호사', '장윤기)', '【상대방,', '피재항고인】', '상대방', '법무법인', '대구', '담당변호사', '박진', '외', '1인)', '【원심결정】', '대구가법', '2016.', '26.자', '2016브48', '【주', '소극)', '기각한다.', '【이', '유】', '재항고이유를', '판단한다.', '1.', '부양의무이다(대법원', '판결,', '여부(원칙적', '참조).', '없다고', '있는지', '것이다.', '2.', '재항고인(이하', '‘청구인’이라', '한다)은', '원심에서', '/', '○○', '○○○', '대학교', '△△학과에', '재학', '중이어서', '자력으로', '해당한다고', '주장하며', '아버지인', '상대방을', '유학비용', '상당의', '범위', '지급을', '청구하였다.', '이에', '원심은', '경우', '상대방의', '반대에도', '불구하고', '유학을', '추진한', '점', '판시와', '들어,', '있는', '나이', '건강상태,', '학력,', '구하는', '부양료의', '내용과', '액수', '사정에', '【판시사항】', '해당하지', '않는다고', '보아,', '위', '청구를', '배척하였다.', '앞서', '본', '법리와', '기록에', '살펴보면,', '원심의', '위와', '판단에', '재항고이유', '주장과', '관한', '법리를', '오해하거나', '논리와', '경험의', '법칙을', '위반하여', '자유심증주의의', '한계를', '벗어나는', '등의', '위법이', '3.', '그러므로', '기각하기로', '하여,', '관여', '대법관의', '일치된', '의견으로', '주문과', '같이', '결정한다.']\n"
     ]
    }
   ],
   "source": [
    "print(vocab)"
   ]
  },
  {
   "cell_type": "code",
   "execution_count": 13,
   "metadata": {},
   "outputs": [
    {
     "data": {
      "text/plain": [
       "[('들어,', 0.3918091058731079),\n",
       " ('수는', 0.3806556463241577),\n",
       " ('한계를', 0.3593319356441498),\n",
       " ('생활에', 0.33510497212409973),\n",
       " ('235)', 0.31391412019729614),\n",
       " ('수요가', 0.3039455711841583),\n",
       " ('상응하는', 0.27998948097229004),\n",
       " ('기각하기로', 0.2788197994232178),\n",
       " ('재항고이유를', 0.2702583074569702),\n",
       " ('생활정도와', 0.2701473832130432),\n",
       " ('위와', 0.26830872893333435),\n",
       " ('직계혈족으로서', 0.2674855887889862),\n",
       " ('기각한다.', 0.2618490159511566),\n",
       " ('한다)은', 0.26169154047966003),\n",
       " ('있을', 0.25898653268814087),\n",
       " ('경우에', 0.24950861930847168),\n",
       " ('재학', 0.24763059616088867),\n",
       " ('지원하는', 0.24279208481311798),\n",
       " ('2013스96', 0.23753505945205688),\n",
       " ('없다.', 0.23336544632911682),\n",
       " ('문】', 0.23220549523830414),\n",
       " ('오해하거나', 0.23004813492298126),\n",
       " ('2016.', 0.22955816984176636),\n",
       " ('뿐이다.', 0.2270992249250412),\n",
       " ('유】', 0.22709302604198456),\n",
       " ('이러한', 0.2266680747270584),\n",
       " ('보기', 0.22458158433437347),\n",
       " ('부모를', 0.22135984897613525),\n",
       " ('제1호,', 0.21918515861034393),\n",
       " ('관한', 0.21834200620651245)]"
      ]
     },
     "execution_count": 13,
     "metadata": {},
     "output_type": "execute_result"
    }
   ],
   "source": [
    "# '영화'와 가장 유사한 단어 30개 뽑기\n",
    "model.most_similar('결정', topn=30)"
   ]
  },
  {
   "cell_type": "code",
   "execution_count": null,
   "metadata": {
    "collapsed": true
   },
   "outputs": [],
   "source": []
  },
  {
   "cell_type": "markdown",
   "metadata": {},
   "source": [
    "## 참고자료\n",
    "\n",
    "- FastText, 실전 사용하기\n",
    "\n",
    " https://ratsgo.github.io/from%20frequency%20to%20semantics/2017/07/06/fasttext/\n",
    "\n",
    "- Word2vec로 사용할 수 있는 벡터 모델들\n",
    "\n",
    " http://www.neuromancer.kr/t/word2vec/481\n",
    "\n",
    "- FastText라는 facebook이 공개한 워드 임베딩 기술로, 각국의 wiki를 학습한 데이터셋이라고 합니다.\n",
    "\n",
    " https://s3-us-west-1.amazonaws.com/fasttext-vectors/wiki.ko.zip\n",
    "\n",
    " 용량은 5기가가 약간 안 되네요.\n",
    "\n",
    "- fasttext에 대한 소개입니다.\n",
    "\n",
    " https://code.facebook.com/posts/1438652669495149/fair-open-sources-fasttext/\n",
    "\n",
    "- 파이썬 인터페이스입니다.\n",
    "\n",
    " https://github.com/salestock/fastText.py\n",
    "\n",
    "- 발표된 문서들입니다.\n",
    "\n",
    " Enriching Word Vectors with Subword Information\n",
    " https://arxiv.org/pdf/1607.04606.pdf\n",
    "\n",
    "- Bag of Tricks for Efficient Text Classification\n",
    "\n",
    " https://arxiv.org/pdf/1607.01759.pdf\n",
    "\n",
    "- 빈도수 세기의 놀라운 마법 Word2Vec, Glove, Fasttext\n",
    "\n",
    " https://ratsgo.github.io/from%20frequency%20to%20semantics/2017/03/11/embedding/\n",
    "\n",
    "- NLP 문장 가중치 측정 방법들\n",
    "\n",
    " http://ra2kstar.tistory.com/22\n",
    " \n",
    "- n-gram\n",
    " \n",
    " http://blog.ilkyu.kr/entry/%EC%96%B8%EC%96%B4-%EB%AA%A8%EB%8D%B8%EB%A7%81-ngram\n",
    " http://kkyunstory.tistory.com/50"
   ]
  },
  {
   "cell_type": "markdown",
   "metadata": {},
   "source": []
  },
  {
   "cell_type": "code",
   "execution_count": null,
   "metadata": {
    "collapsed": true
   },
   "outputs": [],
   "source": []
  }
 ],
 "metadata": {
  "kernelspec": {
   "display_name": "Python 3",
   "language": "python",
   "name": "python3"
  },
  "language_info": {
   "codemirror_mode": {
    "name": "ipython",
    "version": 3
   },
   "file_extension": ".py",
   "mimetype": "text/x-python",
   "name": "python",
   "nbconvert_exporter": "python",
   "pygments_lexer": "ipython3",
   "version": "3.6.3"
  }
 },
 "nbformat": 4,
 "nbformat_minor": 2
}
