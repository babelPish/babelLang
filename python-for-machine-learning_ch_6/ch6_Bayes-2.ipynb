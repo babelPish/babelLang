{
 "cells": [
  {
   "cell_type": "markdown",
   "metadata": {},
   "source": [
    "# 6-3. 베이즈정리로 텍스트 분류하기"
   ]
  },
  {
   "cell_type": "markdown",
   "metadata": {},
   "source": [
    "### 텍스트 분류\n",
    "\n",
    "\n",
    "자주 사용되는 방법으로 베이즈 정리를 이용한 텍스트 분류 방법인 \"베이지안 필터\"가 있다. 학습을 많이 시킬수록 필터의 분류 능력이 오른다\n",
    "- 스팸메일 구분하거나 스팸글 구분에 많이 사용됨"
   ]
  },
  {
   "cell_type": "markdown",
   "metadata": {},
   "source": [
    "* 베이지안 필터는 지도학습\n",
    "* 머신러닝 이전에는 키워드를 지정해서 스팸메일을 구분했으나, 베이지안 필터를 사용하면 데이터를 학습시켜 자동으로 스팸 메일을 분류할 수 있다(키워드 지정x)"
   ]
  },
  {
   "cell_type": "markdown",
   "metadata": {},
   "source": [
    "# 베이즈 정리\n",
    "\n"
   ]
  },
  {
   "cell_type": "markdown",
   "metadata": {},
   "source": [
    "* 베이즈 정리(Bayes' theorem)은 '조건부 확률'과 관련된 이론(베이지안 필터의 기반)"
   ]
  },
  {
   "cell_type": "markdown",
   "metadata": {},
   "source": [
    "### 조건부 확률\n",
    "<img src = \"http://cfile3.uf.tistory.com/image/99BBBA335A1CE3AB202A74\">\n",
    "\n",
    "* 사건 B 가 발생한 경우 A 의 확률\n",
    "\n",
    "* 베이즈 정리는 P(A|B) 의 추정이 P(A∩B) 와 P(B) 에 기반을 두어야한다는 정리"
   ]
  },
  {
   "cell_type": "markdown",
   "metadata": {},
   "source": [
    "### 베이즈 정리\n",
    "<img src = \"http://pds25.egloos.com/pds/201412/16/00/a0234900_548f230d5e37e.png\">"
   ]
  },
  {
   "cell_type": "markdown",
   "metadata": {
    "colab_type": "text",
    "id": "vC3Maa5vnFiV"
   },
   "source": [
    "## 나이브 베이즈 분류\n",
    "\n",
    " * 문서를 여러 범주 중 하나로 판단하는 문제에 쓰인다\n",
    "\n",
    "-베이즈 정리는 A라는 사건이 B에 속하는지를 판단할 때 사용\n",
    "-> 텍스트 분류를 예로 들면 A가 받은메일, B가 스팸 판정결과\n",
    "   \n",
    "   * 받은메일에서 스팸일 확률\n",
    "   \n",
    "     p(스팸|메일) = { p(스팸)* p(메일|스팸) } / p(메일)\n",
    "              \n",
    "              \n",
    "나이브 베이즈 분류\n",
    "\n",
    "Naive Bayes 라는 용어는 그 확률모델이 베이즈 정리 (Bayes' Theorem)를 사용하여 유도될 수 있고, 실제로는 생길 수 없는 강한 독립 가정 (strong independences assumption) 를 포함한다는 사실로부터, (의도적으로) naive (순진한, 고지식한) 라는 말을 사용하였다\n",
    "\n",
    "* 텍스트 내부에서의 단어 출현 비율을 조사,이를 기반으로 해당 텍스트를 어떤 카테고리로 분류하는 것이 적합한지 알아본다.\n",
    "\n",
    "여러개의 카테고리 중에 어떤 카테고리에 속할 확률이 가장 큰지를 나타내는 정보\n",
    "(단어가 문서의 어떤 위치에 있다는 정보 등은 고려x. 가방 안에 단어들을 그냥 넣어서 사용하는 것과 같다 BoW)\n"
   ]
  },
  {
   "cell_type": "markdown",
   "metadata": {},
   "source": [
    "##### 예시\n",
    "\n",
    "문서 이진분류 문제를 예\n",
    "\n",
    "문제 - 문서 d가 주어졌을 때 범주 c1 혹은 c2로 분류하는 것"
   ]
  },
  {
   "cell_type": "markdown",
   "metadata": {},
   "source": [
    "\n",
    "\\begin{align*}\n",
    "P({ c }_{ 1 }|d)&=\\frac { P({ c }_{ 1 },d) }{ P(d) } =\\frac { \\frac { P({ c }_{ 1 },d) }{ P({ c }_{ 1 }) } \\cdot P({ c }_{ 1 }) }{ P(d) } =\\frac { P(d|{ c }_{ 1 }) { P({ c }_{ 1 }) }}{ P(d) } \\\\ P({ c }_{ 2 }|d)&=\\frac { P(d|{ c }_{ 2 }){ P({ c }_{ 2 }) } }{ P(d) }\n",
    "\\end{align*}\n",
    "\n",
    "베이즈 모델은 P(c1|d)/P(d)와 P(c2|d)/P(d)를 비교해 큰 쪽으로 범주를 할당(여기에서 P(d)는 겹치므로 계산을 아예 생략할 수 있습니다)"
   ]
  },
  {
   "cell_type": "markdown",
   "metadata": {},
   "source": [
    "이번엔 문서 d가 단어 w1, w2로 구성돼 있다고 치자. \n",
    "\\begin{align*}\n",
    "P({ c }_{ i }|d)&=P({ c }_{ i }|{ w }_{ 1 },{ w }_{ 2 })\\\\ &\\propto P({ w }_{ 1 },{ w }_{ 2 }|{ c }_{ i }){ P({ c }_{ i }) } \\\\ &\\propto P({ w }_{ 1 },{ w }_{ 2 }|{ c }_{ i })\n",
    "\\end{align*}\n",
    "\n",
    "나이브 베이즈 분류기는 각 단어가 독립(independent)임을 가정합니다. 모델 이름에 나이브라는 말이 붙은 이유이기도 합니다. 이에 따라 식을 다시 쓸 수 있습니다.\n",
    "\n",
    "\\begin{align*}\n",
    "P({ w }_{ 1 },{ w }_{ 2 })=P({ w }_{ 1 })\\cdot P({ w }_{ 2 })\\\\ P({ w }_{ 1 },{ w }_{ 2 }|{ c }_{ i })=P({ w }_{ 1 }|{ c }_{ i })\\cdot P({ w }_{ 2 }|{ c }_{ i })\n",
    "\\end{align*}"
   ]
  },
  {
   "cell_type": "markdown",
   "metadata": {},
   "source": [
    "ppt 20 이미지\n",
    "-> 확률 기반 분류기"
   ]
  },
  {
   "cell_type": "code",
   "execution_count": 29,
   "metadata": {},
   "outputs": [],
   "source": [
    "from konlpy.tag import Twitter\n",
    "twitter = Twitter()\n",
    "\n",
    "train = [(\"파격 세일 - 오늘까지만 30% 할인\", \"광고\"), \n",
    "(\"쿠폰 선물 & 무료 배송\", \"광고\"),\n",
    "(\"현데계 백화점 세일\", \"광고\"),\n",
    "(\"봄과 함께 찾아온 따뜻한 신제품 소식\", \"광고\"),\n",
    "(\"인기 제품 기간 한정 세일\", \"광고\"),\n",
    "(\"오늘 일정 확인\", \"중요\"),\n",
    "(\"프로젝트 진행 상황 보고\",\"중요\"),\n",
    "(\"계약 잘 부탁드립니다\",\"중요\"),\n",
    "(\"회의 일정이 등록되었습니다.\",\"중요\"),\n",
    "(\"오늘 일정이 없습니다.\",\"중요\")]"
   ]
  },
  {
   "cell_type": "code",
   "execution_count": 30,
   "metadata": {
    "scrolled": true
   },
   "outputs": [
    {
     "data": {
      "text/plain": [
       "[(['파격/Noun',\n",
       "   '세일/Noun',\n",
       "   '-/Punctuation',\n",
       "   '오늘/Noun',\n",
       "   '까지만/Josa',\n",
       "   '30/Number',\n",
       "   '%/Punctuation',\n",
       "   '할인/Noun'],\n",
       "  '광고'),\n",
       " (['쿠폰/Noun', '선물/Noun', '&/Punctuation', '무료/Noun', '배송/Noun'], '광고'),\n",
       " (['현데/Noun', '계/Suffix', '백화점/Noun', '세일/Noun'], '광고'),\n",
       " (['봄/Noun',\n",
       "   '과/Josa',\n",
       "   '함께/Adverb',\n",
       "   '찾아오다/Verb',\n",
       "   '따뜻하다/Adjective',\n",
       "   '신제품/Noun',\n",
       "   '소식/Noun'],\n",
       "  '광고'),\n",
       " (['인기/Noun', '제품/Noun', '기간/Noun', '한정/Noun', '세일/Noun'], '광고'),\n",
       " (['오늘/Noun', '일정/Noun', '확인/Noun'], '중요'),\n",
       " (['프로젝트/Noun', '진행/Noun', '상황/Noun', '보고/Noun'], '중요'),\n",
       " (['계약/Noun', '자다/Verb', '부탁드리다/Adjective'], '중요'),\n",
       " (['회의/Noun', '일정/Noun', '이/Josa', '등록/Noun', '되어다/Verb', './Punctuation'],\n",
       "  '중요'),\n",
       " (['오늘/Noun', '일정/Noun', '이/Josa', '없다/Adjective', './Punctuation'], '중요')]"
      ]
     },
     "execution_count": 30,
     "metadata": {},
     "output_type": "execute_result"
    }
   ],
   "source": [
    "def tokenize(doc):\n",
    "    # norm, stem은 optional\n",
    "    return ['/'.join(t) for t in pos_tagger.pos(doc, norm=True, stem=True)]\n",
    "train_docs = [(tokenize(row[0]), row[1]) for row in train]\n",
    "train_docs\n"
   ]
  },
  {
   "cell_type": "code",
   "execution_count": 31,
   "metadata": {},
   "outputs": [
    {
     "data": {
      "text/plain": [
       "['파격/Noun',\n",
       " '세일/Noun',\n",
       " '-/Punctuation',\n",
       " '오늘/Noun',\n",
       " '까지만/Josa',\n",
       " '30/Number',\n",
       " '%/Punctuation',\n",
       " '할인/Noun',\n",
       " '쿠폰/Noun',\n",
       " '선물/Noun',\n",
       " '&/Punctuation',\n",
       " '무료/Noun',\n",
       " '배송/Noun',\n",
       " '현데/Noun',\n",
       " '계/Suffix',\n",
       " '백화점/Noun',\n",
       " '세일/Noun',\n",
       " '봄/Noun',\n",
       " '과/Josa',\n",
       " '함께/Adverb',\n",
       " '찾아오다/Verb',\n",
       " '따뜻하다/Adjective',\n",
       " '신제품/Noun',\n",
       " '소식/Noun',\n",
       " '인기/Noun',\n",
       " '제품/Noun',\n",
       " '기간/Noun',\n",
       " '한정/Noun',\n",
       " '세일/Noun',\n",
       " '오늘/Noun',\n",
       " '일정/Noun',\n",
       " '확인/Noun',\n",
       " '프로젝트/Noun',\n",
       " '진행/Noun',\n",
       " '상황/Noun',\n",
       " '보고/Noun',\n",
       " '계약/Noun',\n",
       " '자다/Verb',\n",
       " '부탁드리다/Adjective',\n",
       " '회의/Noun',\n",
       " '일정/Noun',\n",
       " '이/Josa',\n",
       " '등록/Noun',\n",
       " '되어다/Verb',\n",
       " './Punctuation',\n",
       " '오늘/Noun',\n",
       " '일정/Noun',\n",
       " '이/Josa',\n",
       " '없다/Adjective',\n",
       " './Punctuation']"
      ]
     },
     "execution_count": 31,
     "metadata": {},
     "output_type": "execute_result"
    }
   ],
   "source": [
    "#하나의 리스트\n",
    "tokens = [t for d in train_docs for t in d[0]]\n",
    "tokens"
   ]
  },
  {
   "cell_type": "code",
   "execution_count": 32,
   "metadata": {},
   "outputs": [
    {
     "data": {
      "text/plain": [
       "[({'exists(%/Punctuation)': True,\n",
       "   'exists(&/Punctuation)': False,\n",
       "   'exists(-/Punctuation)': True,\n",
       "   'exists(./Punctuation)': False,\n",
       "   'exists(30/Number)': True,\n",
       "   'exists(계/Suffix)': False,\n",
       "   'exists(계약/Noun)': False,\n",
       "   'exists(과/Josa)': False,\n",
       "   'exists(기간/Noun)': False,\n",
       "   'exists(까지만/Josa)': True,\n",
       "   'exists(되어다/Verb)': False,\n",
       "   'exists(등록/Noun)': False,\n",
       "   'exists(따뜻하다/Adjective)': False,\n",
       "   'exists(무료/Noun)': False,\n",
       "   'exists(배송/Noun)': False,\n",
       "   'exists(백화점/Noun)': False,\n",
       "   'exists(보고/Noun)': False,\n",
       "   'exists(봄/Noun)': False,\n",
       "   'exists(부탁드리다/Adjective)': False,\n",
       "   'exists(상황/Noun)': False,\n",
       "   'exists(선물/Noun)': False,\n",
       "   'exists(세일/Noun)': True,\n",
       "   'exists(소식/Noun)': False,\n",
       "   'exists(신제품/Noun)': False,\n",
       "   'exists(없다/Adjective)': False,\n",
       "   'exists(오늘/Noun)': True,\n",
       "   'exists(이/Josa)': False,\n",
       "   'exists(인기/Noun)': False,\n",
       "   'exists(일정/Noun)': False,\n",
       "   'exists(자다/Verb)': False,\n",
       "   'exists(제품/Noun)': False,\n",
       "   'exists(진행/Noun)': False,\n",
       "   'exists(찾아오다/Verb)': False,\n",
       "   'exists(쿠폰/Noun)': False,\n",
       "   'exists(파격/Noun)': True,\n",
       "   'exists(프로젝트/Noun)': False,\n",
       "   'exists(한정/Noun)': False,\n",
       "   'exists(할인/Noun)': True,\n",
       "   'exists(함께/Adverb)': False,\n",
       "   'exists(현데/Noun)': False,\n",
       "   'exists(확인/Noun)': False,\n",
       "   'exists(회의/Noun)': False},\n",
       "  '광고'),\n",
       " ({'exists(%/Punctuation)': False,\n",
       "   'exists(&/Punctuation)': True,\n",
       "   'exists(-/Punctuation)': False,\n",
       "   'exists(./Punctuation)': False,\n",
       "   'exists(30/Number)': False,\n",
       "   'exists(계/Suffix)': False,\n",
       "   'exists(계약/Noun)': False,\n",
       "   'exists(과/Josa)': False,\n",
       "   'exists(기간/Noun)': False,\n",
       "   'exists(까지만/Josa)': False,\n",
       "   'exists(되어다/Verb)': False,\n",
       "   'exists(등록/Noun)': False,\n",
       "   'exists(따뜻하다/Adjective)': False,\n",
       "   'exists(무료/Noun)': True,\n",
       "   'exists(배송/Noun)': True,\n",
       "   'exists(백화점/Noun)': False,\n",
       "   'exists(보고/Noun)': False,\n",
       "   'exists(봄/Noun)': False,\n",
       "   'exists(부탁드리다/Adjective)': False,\n",
       "   'exists(상황/Noun)': False,\n",
       "   'exists(선물/Noun)': True,\n",
       "   'exists(세일/Noun)': False,\n",
       "   'exists(소식/Noun)': False,\n",
       "   'exists(신제품/Noun)': False,\n",
       "   'exists(없다/Adjective)': False,\n",
       "   'exists(오늘/Noun)': False,\n",
       "   'exists(이/Josa)': False,\n",
       "   'exists(인기/Noun)': False,\n",
       "   'exists(일정/Noun)': False,\n",
       "   'exists(자다/Verb)': False,\n",
       "   'exists(제품/Noun)': False,\n",
       "   'exists(진행/Noun)': False,\n",
       "   'exists(찾아오다/Verb)': False,\n",
       "   'exists(쿠폰/Noun)': True,\n",
       "   'exists(파격/Noun)': False,\n",
       "   'exists(프로젝트/Noun)': False,\n",
       "   'exists(한정/Noun)': False,\n",
       "   'exists(할인/Noun)': False,\n",
       "   'exists(함께/Adverb)': False,\n",
       "   'exists(현데/Noun)': False,\n",
       "   'exists(확인/Noun)': False,\n",
       "   'exists(회의/Noun)': False},\n",
       "  '광고'),\n",
       " ({'exists(%/Punctuation)': False,\n",
       "   'exists(&/Punctuation)': False,\n",
       "   'exists(-/Punctuation)': False,\n",
       "   'exists(./Punctuation)': False,\n",
       "   'exists(30/Number)': False,\n",
       "   'exists(계/Suffix)': True,\n",
       "   'exists(계약/Noun)': False,\n",
       "   'exists(과/Josa)': False,\n",
       "   'exists(기간/Noun)': False,\n",
       "   'exists(까지만/Josa)': False,\n",
       "   'exists(되어다/Verb)': False,\n",
       "   'exists(등록/Noun)': False,\n",
       "   'exists(따뜻하다/Adjective)': False,\n",
       "   'exists(무료/Noun)': False,\n",
       "   'exists(배송/Noun)': False,\n",
       "   'exists(백화점/Noun)': True,\n",
       "   'exists(보고/Noun)': False,\n",
       "   'exists(봄/Noun)': False,\n",
       "   'exists(부탁드리다/Adjective)': False,\n",
       "   'exists(상황/Noun)': False,\n",
       "   'exists(선물/Noun)': False,\n",
       "   'exists(세일/Noun)': True,\n",
       "   'exists(소식/Noun)': False,\n",
       "   'exists(신제품/Noun)': False,\n",
       "   'exists(없다/Adjective)': False,\n",
       "   'exists(오늘/Noun)': False,\n",
       "   'exists(이/Josa)': False,\n",
       "   'exists(인기/Noun)': False,\n",
       "   'exists(일정/Noun)': False,\n",
       "   'exists(자다/Verb)': False,\n",
       "   'exists(제품/Noun)': False,\n",
       "   'exists(진행/Noun)': False,\n",
       "   'exists(찾아오다/Verb)': False,\n",
       "   'exists(쿠폰/Noun)': False,\n",
       "   'exists(파격/Noun)': False,\n",
       "   'exists(프로젝트/Noun)': False,\n",
       "   'exists(한정/Noun)': False,\n",
       "   'exists(할인/Noun)': False,\n",
       "   'exists(함께/Adverb)': False,\n",
       "   'exists(현데/Noun)': True,\n",
       "   'exists(확인/Noun)': False,\n",
       "   'exists(회의/Noun)': False},\n",
       "  '광고'),\n",
       " ({'exists(%/Punctuation)': False,\n",
       "   'exists(&/Punctuation)': False,\n",
       "   'exists(-/Punctuation)': False,\n",
       "   'exists(./Punctuation)': False,\n",
       "   'exists(30/Number)': False,\n",
       "   'exists(계/Suffix)': False,\n",
       "   'exists(계약/Noun)': False,\n",
       "   'exists(과/Josa)': True,\n",
       "   'exists(기간/Noun)': False,\n",
       "   'exists(까지만/Josa)': False,\n",
       "   'exists(되어다/Verb)': False,\n",
       "   'exists(등록/Noun)': False,\n",
       "   'exists(따뜻하다/Adjective)': True,\n",
       "   'exists(무료/Noun)': False,\n",
       "   'exists(배송/Noun)': False,\n",
       "   'exists(백화점/Noun)': False,\n",
       "   'exists(보고/Noun)': False,\n",
       "   'exists(봄/Noun)': True,\n",
       "   'exists(부탁드리다/Adjective)': False,\n",
       "   'exists(상황/Noun)': False,\n",
       "   'exists(선물/Noun)': False,\n",
       "   'exists(세일/Noun)': False,\n",
       "   'exists(소식/Noun)': True,\n",
       "   'exists(신제품/Noun)': True,\n",
       "   'exists(없다/Adjective)': False,\n",
       "   'exists(오늘/Noun)': False,\n",
       "   'exists(이/Josa)': False,\n",
       "   'exists(인기/Noun)': False,\n",
       "   'exists(일정/Noun)': False,\n",
       "   'exists(자다/Verb)': False,\n",
       "   'exists(제품/Noun)': False,\n",
       "   'exists(진행/Noun)': False,\n",
       "   'exists(찾아오다/Verb)': True,\n",
       "   'exists(쿠폰/Noun)': False,\n",
       "   'exists(파격/Noun)': False,\n",
       "   'exists(프로젝트/Noun)': False,\n",
       "   'exists(한정/Noun)': False,\n",
       "   'exists(할인/Noun)': False,\n",
       "   'exists(함께/Adverb)': True,\n",
       "   'exists(현데/Noun)': False,\n",
       "   'exists(확인/Noun)': False,\n",
       "   'exists(회의/Noun)': False},\n",
       "  '광고'),\n",
       " ({'exists(%/Punctuation)': False,\n",
       "   'exists(&/Punctuation)': False,\n",
       "   'exists(-/Punctuation)': False,\n",
       "   'exists(./Punctuation)': False,\n",
       "   'exists(30/Number)': False,\n",
       "   'exists(계/Suffix)': False,\n",
       "   'exists(계약/Noun)': False,\n",
       "   'exists(과/Josa)': False,\n",
       "   'exists(기간/Noun)': True,\n",
       "   'exists(까지만/Josa)': False,\n",
       "   'exists(되어다/Verb)': False,\n",
       "   'exists(등록/Noun)': False,\n",
       "   'exists(따뜻하다/Adjective)': False,\n",
       "   'exists(무료/Noun)': False,\n",
       "   'exists(배송/Noun)': False,\n",
       "   'exists(백화점/Noun)': False,\n",
       "   'exists(보고/Noun)': False,\n",
       "   'exists(봄/Noun)': False,\n",
       "   'exists(부탁드리다/Adjective)': False,\n",
       "   'exists(상황/Noun)': False,\n",
       "   'exists(선물/Noun)': False,\n",
       "   'exists(세일/Noun)': True,\n",
       "   'exists(소식/Noun)': False,\n",
       "   'exists(신제품/Noun)': False,\n",
       "   'exists(없다/Adjective)': False,\n",
       "   'exists(오늘/Noun)': False,\n",
       "   'exists(이/Josa)': False,\n",
       "   'exists(인기/Noun)': True,\n",
       "   'exists(일정/Noun)': False,\n",
       "   'exists(자다/Verb)': False,\n",
       "   'exists(제품/Noun)': True,\n",
       "   'exists(진행/Noun)': False,\n",
       "   'exists(찾아오다/Verb)': False,\n",
       "   'exists(쿠폰/Noun)': False,\n",
       "   'exists(파격/Noun)': False,\n",
       "   'exists(프로젝트/Noun)': False,\n",
       "   'exists(한정/Noun)': True,\n",
       "   'exists(할인/Noun)': False,\n",
       "   'exists(함께/Adverb)': False,\n",
       "   'exists(현데/Noun)': False,\n",
       "   'exists(확인/Noun)': False,\n",
       "   'exists(회의/Noun)': False},\n",
       "  '광고'),\n",
       " ({'exists(%/Punctuation)': False,\n",
       "   'exists(&/Punctuation)': False,\n",
       "   'exists(-/Punctuation)': False,\n",
       "   'exists(./Punctuation)': False,\n",
       "   'exists(30/Number)': False,\n",
       "   'exists(계/Suffix)': False,\n",
       "   'exists(계약/Noun)': False,\n",
       "   'exists(과/Josa)': False,\n",
       "   'exists(기간/Noun)': False,\n",
       "   'exists(까지만/Josa)': False,\n",
       "   'exists(되어다/Verb)': False,\n",
       "   'exists(등록/Noun)': False,\n",
       "   'exists(따뜻하다/Adjective)': False,\n",
       "   'exists(무료/Noun)': False,\n",
       "   'exists(배송/Noun)': False,\n",
       "   'exists(백화점/Noun)': False,\n",
       "   'exists(보고/Noun)': False,\n",
       "   'exists(봄/Noun)': False,\n",
       "   'exists(부탁드리다/Adjective)': False,\n",
       "   'exists(상황/Noun)': False,\n",
       "   'exists(선물/Noun)': False,\n",
       "   'exists(세일/Noun)': False,\n",
       "   'exists(소식/Noun)': False,\n",
       "   'exists(신제품/Noun)': False,\n",
       "   'exists(없다/Adjective)': False,\n",
       "   'exists(오늘/Noun)': True,\n",
       "   'exists(이/Josa)': False,\n",
       "   'exists(인기/Noun)': False,\n",
       "   'exists(일정/Noun)': True,\n",
       "   'exists(자다/Verb)': False,\n",
       "   'exists(제품/Noun)': False,\n",
       "   'exists(진행/Noun)': False,\n",
       "   'exists(찾아오다/Verb)': False,\n",
       "   'exists(쿠폰/Noun)': False,\n",
       "   'exists(파격/Noun)': False,\n",
       "   'exists(프로젝트/Noun)': False,\n",
       "   'exists(한정/Noun)': False,\n",
       "   'exists(할인/Noun)': False,\n",
       "   'exists(함께/Adverb)': False,\n",
       "   'exists(현데/Noun)': False,\n",
       "   'exists(확인/Noun)': True,\n",
       "   'exists(회의/Noun)': False},\n",
       "  '중요'),\n",
       " ({'exists(%/Punctuation)': False,\n",
       "   'exists(&/Punctuation)': False,\n",
       "   'exists(-/Punctuation)': False,\n",
       "   'exists(./Punctuation)': False,\n",
       "   'exists(30/Number)': False,\n",
       "   'exists(계/Suffix)': False,\n",
       "   'exists(계약/Noun)': False,\n",
       "   'exists(과/Josa)': False,\n",
       "   'exists(기간/Noun)': False,\n",
       "   'exists(까지만/Josa)': False,\n",
       "   'exists(되어다/Verb)': False,\n",
       "   'exists(등록/Noun)': False,\n",
       "   'exists(따뜻하다/Adjective)': False,\n",
       "   'exists(무료/Noun)': False,\n",
       "   'exists(배송/Noun)': False,\n",
       "   'exists(백화점/Noun)': False,\n",
       "   'exists(보고/Noun)': True,\n",
       "   'exists(봄/Noun)': False,\n",
       "   'exists(부탁드리다/Adjective)': False,\n",
       "   'exists(상황/Noun)': True,\n",
       "   'exists(선물/Noun)': False,\n",
       "   'exists(세일/Noun)': False,\n",
       "   'exists(소식/Noun)': False,\n",
       "   'exists(신제품/Noun)': False,\n",
       "   'exists(없다/Adjective)': False,\n",
       "   'exists(오늘/Noun)': False,\n",
       "   'exists(이/Josa)': False,\n",
       "   'exists(인기/Noun)': False,\n",
       "   'exists(일정/Noun)': False,\n",
       "   'exists(자다/Verb)': False,\n",
       "   'exists(제품/Noun)': False,\n",
       "   'exists(진행/Noun)': True,\n",
       "   'exists(찾아오다/Verb)': False,\n",
       "   'exists(쿠폰/Noun)': False,\n",
       "   'exists(파격/Noun)': False,\n",
       "   'exists(프로젝트/Noun)': True,\n",
       "   'exists(한정/Noun)': False,\n",
       "   'exists(할인/Noun)': False,\n",
       "   'exists(함께/Adverb)': False,\n",
       "   'exists(현데/Noun)': False,\n",
       "   'exists(확인/Noun)': False,\n",
       "   'exists(회의/Noun)': False},\n",
       "  '중요'),\n",
       " ({'exists(%/Punctuation)': False,\n",
       "   'exists(&/Punctuation)': False,\n",
       "   'exists(-/Punctuation)': False,\n",
       "   'exists(./Punctuation)': False,\n",
       "   'exists(30/Number)': False,\n",
       "   'exists(계/Suffix)': False,\n",
       "   'exists(계약/Noun)': True,\n",
       "   'exists(과/Josa)': False,\n",
       "   'exists(기간/Noun)': False,\n",
       "   'exists(까지만/Josa)': False,\n",
       "   'exists(되어다/Verb)': False,\n",
       "   'exists(등록/Noun)': False,\n",
       "   'exists(따뜻하다/Adjective)': False,\n",
       "   'exists(무료/Noun)': False,\n",
       "   'exists(배송/Noun)': False,\n",
       "   'exists(백화점/Noun)': False,\n",
       "   'exists(보고/Noun)': False,\n",
       "   'exists(봄/Noun)': False,\n",
       "   'exists(부탁드리다/Adjective)': True,\n",
       "   'exists(상황/Noun)': False,\n",
       "   'exists(선물/Noun)': False,\n",
       "   'exists(세일/Noun)': False,\n",
       "   'exists(소식/Noun)': False,\n",
       "   'exists(신제품/Noun)': False,\n",
       "   'exists(없다/Adjective)': False,\n",
       "   'exists(오늘/Noun)': False,\n",
       "   'exists(이/Josa)': False,\n",
       "   'exists(인기/Noun)': False,\n",
       "   'exists(일정/Noun)': False,\n",
       "   'exists(자다/Verb)': True,\n",
       "   'exists(제품/Noun)': False,\n",
       "   'exists(진행/Noun)': False,\n",
       "   'exists(찾아오다/Verb)': False,\n",
       "   'exists(쿠폰/Noun)': False,\n",
       "   'exists(파격/Noun)': False,\n",
       "   'exists(프로젝트/Noun)': False,\n",
       "   'exists(한정/Noun)': False,\n",
       "   'exists(할인/Noun)': False,\n",
       "   'exists(함께/Adverb)': False,\n",
       "   'exists(현데/Noun)': False,\n",
       "   'exists(확인/Noun)': False,\n",
       "   'exists(회의/Noun)': False},\n",
       "  '중요'),\n",
       " ({'exists(%/Punctuation)': False,\n",
       "   'exists(&/Punctuation)': False,\n",
       "   'exists(-/Punctuation)': False,\n",
       "   'exists(./Punctuation)': True,\n",
       "   'exists(30/Number)': False,\n",
       "   'exists(계/Suffix)': False,\n",
       "   'exists(계약/Noun)': False,\n",
       "   'exists(과/Josa)': False,\n",
       "   'exists(기간/Noun)': False,\n",
       "   'exists(까지만/Josa)': False,\n",
       "   'exists(되어다/Verb)': True,\n",
       "   'exists(등록/Noun)': True,\n",
       "   'exists(따뜻하다/Adjective)': False,\n",
       "   'exists(무료/Noun)': False,\n",
       "   'exists(배송/Noun)': False,\n",
       "   'exists(백화점/Noun)': False,\n",
       "   'exists(보고/Noun)': False,\n",
       "   'exists(봄/Noun)': False,\n",
       "   'exists(부탁드리다/Adjective)': False,\n",
       "   'exists(상황/Noun)': False,\n",
       "   'exists(선물/Noun)': False,\n",
       "   'exists(세일/Noun)': False,\n",
       "   'exists(소식/Noun)': False,\n",
       "   'exists(신제품/Noun)': False,\n",
       "   'exists(없다/Adjective)': False,\n",
       "   'exists(오늘/Noun)': False,\n",
       "   'exists(이/Josa)': True,\n",
       "   'exists(인기/Noun)': False,\n",
       "   'exists(일정/Noun)': True,\n",
       "   'exists(자다/Verb)': False,\n",
       "   'exists(제품/Noun)': False,\n",
       "   'exists(진행/Noun)': False,\n",
       "   'exists(찾아오다/Verb)': False,\n",
       "   'exists(쿠폰/Noun)': False,\n",
       "   'exists(파격/Noun)': False,\n",
       "   'exists(프로젝트/Noun)': False,\n",
       "   'exists(한정/Noun)': False,\n",
       "   'exists(할인/Noun)': False,\n",
       "   'exists(함께/Adverb)': False,\n",
       "   'exists(현데/Noun)': False,\n",
       "   'exists(확인/Noun)': False,\n",
       "   'exists(회의/Noun)': True},\n",
       "  '중요'),\n",
       " ({'exists(%/Punctuation)': False,\n",
       "   'exists(&/Punctuation)': False,\n",
       "   'exists(-/Punctuation)': False,\n",
       "   'exists(./Punctuation)': True,\n",
       "   'exists(30/Number)': False,\n",
       "   'exists(계/Suffix)': False,\n",
       "   'exists(계약/Noun)': False,\n",
       "   'exists(과/Josa)': False,\n",
       "   'exists(기간/Noun)': False,\n",
       "   'exists(까지만/Josa)': False,\n",
       "   'exists(되어다/Verb)': False,\n",
       "   'exists(등록/Noun)': False,\n",
       "   'exists(따뜻하다/Adjective)': False,\n",
       "   'exists(무료/Noun)': False,\n",
       "   'exists(배송/Noun)': False,\n",
       "   'exists(백화점/Noun)': False,\n",
       "   'exists(보고/Noun)': False,\n",
       "   'exists(봄/Noun)': False,\n",
       "   'exists(부탁드리다/Adjective)': False,\n",
       "   'exists(상황/Noun)': False,\n",
       "   'exists(선물/Noun)': False,\n",
       "   'exists(세일/Noun)': False,\n",
       "   'exists(소식/Noun)': False,\n",
       "   'exists(신제품/Noun)': False,\n",
       "   'exists(없다/Adjective)': True,\n",
       "   'exists(오늘/Noun)': True,\n",
       "   'exists(이/Josa)': True,\n",
       "   'exists(인기/Noun)': False,\n",
       "   'exists(일정/Noun)': True,\n",
       "   'exists(자다/Verb)': False,\n",
       "   'exists(제품/Noun)': False,\n",
       "   'exists(진행/Noun)': False,\n",
       "   'exists(찾아오다/Verb)': False,\n",
       "   'exists(쿠폰/Noun)': False,\n",
       "   'exists(파격/Noun)': False,\n",
       "   'exists(프로젝트/Noun)': False,\n",
       "   'exists(한정/Noun)': False,\n",
       "   'exists(할인/Noun)': False,\n",
       "   'exists(함께/Adverb)': False,\n",
       "   'exists(현데/Noun)': False,\n",
       "   'exists(확인/Noun)': False,\n",
       "   'exists(회의/Noun)': False},\n",
       "  '중요')]"
      ]
     },
     "execution_count": 32,
     "metadata": {},
     "output_type": "execute_result"
    }
   ],
   "source": [
    "#각 docs안에 train\n",
    "def term_exists(doc):\n",
    "    return {'exists({})'.format(word): (word in set(doc)) for word in tokens}\n",
    "\n",
    "train_xy = [(term_exists(d), c) for d, c in train_docs]\n",
    "train_xy"
   ]
  },
  {
   "cell_type": "code",
   "execution_count": 34,
   "metadata": {},
   "outputs": [
    {
     "name": "stdout",
     "output_type": "stream",
     "text": [
      "Most Informative Features\n",
      "         exists(세일/Noun) = False              중요 : 광고     =      2.2 : 1.0\n",
      "         exists(일정/Noun) = False              광고 : 중요     =      2.2 : 1.0\n",
      "         exists(오늘/Noun) = True               중요 : 광고     =      1.7 : 1.0\n",
      "          exists(이/Josa) = False              광고 : 중요     =      1.6 : 1.0\n",
      "   exists(./Punctuation) = False              광고 : 중요     =      1.6 : 1.0\n",
      "         exists(오늘/Noun) = False              광고 : 중요     =      1.3 : 1.0\n",
      "         exists(파격/Noun) = False              중요 : 광고     =      1.2 : 1.0\n",
      "         exists(배송/Noun) = False              중요 : 광고     =      1.2 : 1.0\n",
      "        exists(백화점/Noun) = False              중요 : 광고     =      1.2 : 1.0\n",
      "         exists(인기/Noun) = False              중요 : 광고     =      1.2 : 1.0\n"
     ]
    }
   ],
   "source": [
    "import nltk\n",
    "classifier = nltk.NaiveBayesClassifier.train(train_xy)\n",
    "\n",
    "classifier.show_most_informative_features(10)"
   ]
  },
  {
   "cell_type": "code",
   "execution_count": 59,
   "metadata": {},
   "outputs": [
    {
     "data": {
      "text/plain": [
       "['계약/Noun', '관련/Noun', '회의/Noun', '일정/Noun']"
      ]
     },
     "execution_count": 59,
     "metadata": {},
     "output_type": "execute_result"
    }
   ],
   "source": [
    "test_sentence = [(\"계약 관련 회의 일정\")]\n",
    "test_docs = tokenize(test_sentence[0])\n",
    "test_docs"
   ]
  },
  {
   "cell_type": "code",
   "execution_count": 60,
   "metadata": {},
   "outputs": [
    {
     "data": {
      "text/plain": [
       "{'계약/Noun': True, '관련/Noun': False, '일정/Noun': True, '회의/Noun': True}"
      ]
     },
     "execution_count": 60,
     "metadata": {},
     "output_type": "execute_result"
    }
   ],
   "source": [
    "test_sent_feature = {word: (word in tokens) for word in test_docs}\n",
    "test_sent_feature"
   ]
  },
  {
   "cell_type": "code",
   "execution_count": 62,
   "metadata": {},
   "outputs": [
    {
     "data": {
      "text/plain": [
       "'중요'"
      ]
     },
     "execution_count": 62,
     "metadata": {},
     "output_type": "execute_result"
    }
   ],
   "source": [
    "classifier.classify(test_sent_feature)"
   ]
  },
  {
   "cell_type": "markdown",
   "metadata": {},
   "source": [
    "## 베이지안 필터 사용해보기\n",
    "\n",
    " 나이브 베이즈 분류기(Naive Bayes Classifier)를 통해 감성분석"
   ]
  },
  {
   "cell_type": "markdown",
   "metadata": {},
   "source": [
    "## Naver sentiment movie corpus v1.0\n",
    "\n",
    "\n",
    " - Maas et al., 2011 데이터셋 참고\n",
    " - 데이터 출처: 네이버\n",
    " - 영화 당 100개의 140자평(이하 '리뷰')을 초과하지 않음\n",
    "\n",
    " - 크기: 19MB\n",
    " - URL: http://github.com/e9t/nsmc/\n"
   ]
  },
  {
   "cell_type": "markdown",
   "metadata": {},
   "source": [
    "순서\n",
    "* KoNLPy 로 데이터 전처리\n",
    "* NLTK로 데이터 탐색\n",
    "* BOW로 문서 표현하고 classify\n",
    "* Gensim으로 doc2vec으로 문서 표현하고 classify"
   ]
  },
  {
   "cell_type": "markdown",
   "metadata": {},
   "source": [
    "<img src =\"https://www.lucypark.kr/docs/2015-pyconkr/ratingdist.png\">\n",
    "\n",
    "\n",
    " - 총 20만 개 리뷰 (수집된 64만개 중 샘플링)\n",
    " - ratings_train.txt: 15만, ratings_test.txt: 5만\n",
    " - 긍정/부정 리뷰의 비율을 동일하게 샘플링 (i.e., random guess yields 50% accuracy)\n",
    " - 중립 리뷰는 포함하지 않음"
   ]
  },
  {
   "cell_type": "markdown",
   "metadata": {},
   "source": [
    "## 1. Data preprocessing (feat. KoNLPy)"
   ]
  },
  {
   "cell_type": "code",
   "execution_count": 3,
   "metadata": {},
   "outputs": [],
   "source": [
    "# 데이터 읽기\n",
    "import jpype\n",
    "from konlpy.tag import Twitter\n",
    "\n",
    "\n",
    "def read_data(filename):\n",
    "    with open(filename, 'rt', encoding='UTF8') as f:\n",
    "        data = [line.split('\\t') for line in f.read().splitlines()] \n",
    "        data = data[1:]   # header 제외\n",
    "    return data\n",
    "train_data = read_data('./nsmc-master/ratings_train.txt')\n",
    "test_data = read_data('./nsmc-master/ratings_test.txt')\n"
   ]
  },
  {
   "cell_type": "code",
   "execution_count": 4,
   "metadata": {},
   "outputs": [
    {
     "name": "stdout",
     "output_type": "stream",
     "text": [
      "150000\n",
      "50000\n"
     ]
    }
   ],
   "source": [
    "# row, column의 수가 제대로 읽혔는지 확인\n",
    "print(len(train_data))    \n",
    "print(len(test_data))      "
   ]
  },
  {
   "cell_type": "code",
   "execution_count": 5,
   "metadata": {},
   "outputs": [
    {
     "name": "stdout",
     "output_type": "stream",
     "text": [
      "(['아/Exclamation',\n",
      "  '더빙/Noun',\n",
      "  '../Punctuation',\n",
      "  '진짜/Noun',\n",
      "  '짜증/Noun',\n",
      "  '나다/Verb',\n",
      "  '목소리/Noun'],\n",
      " '0')\n"
     ]
    }
   ],
   "source": [
    "# 형태소로 tokenizing, pos 태깅\n",
    "\n",
    "from konlpy.tag import Twitter\n",
    "pos_tagger = Twitter()\n",
    "def tokenize(doc):\n",
    "    # norm, stem은 optional\n",
    "    return ['/'.join(t) for t in pos_tagger.pos(doc, norm=True, stem=True)]\n",
    "train_docs = [(tokenize(row[1]), row[2]) for row in train_data]\n",
    "test_docs = [(tokenize(row[1]), row[2]) for row in test_data]\n",
    "\n",
    "\n",
    "# 잘 들어갔는지 확인\n",
    "from pprint import pprint\n",
    "pprint(train_docs[0])\n",
    "\n",
    "# => [(['아/Exclamation',\n",
    "#   '더빙/Noun',\n",
    "#   '../Punctuation',\n",
    "#   '진짜/Noun',\n",
    "#   '짜증/Noun',\n",
    "#   '나다/Verb',\n",
    "#   '목소리/Noun'],\n",
    "#  '0')]"
   ]
  },
  {
   "cell_type": "markdown",
   "metadata": {},
   "source": [
    "## 2. Data exploration (feat. NLTK)"
   ]
  },
  {
   "cell_type": "code",
   "execution_count": 7,
   "metadata": {},
   "outputs": [
    {
     "name": "stdout",
     "output_type": "stream",
     "text": [
      "2194536\n",
      "['아/Exclamation', '더빙/Noun', '../Punctuation', '진짜/Noun', '짜증/Noun', '나다/Verb', '목소리/Noun', '흠/Noun', '.../Punctuation', '포스터/Noun']\n"
     ]
    }
   ],
   "source": [
    "#Training data의 token 모으기\n",
    "\n",
    "tokens = [t for d in train_docs for t in d[0]]\n",
    "print(len(tokens))\n",
    "print(tokens[:10])"
   ]
  },
  {
   "cell_type": "code",
   "execution_count": 8,
   "metadata": {},
   "outputs": [
    {
     "name": "stdout",
     "output_type": "stream",
     "text": [
      "<Text: 아/Exclamation 더빙/Noun ../Punctuation 진짜/Noun 짜증/Noun 나다/Verb 목소리/Noun 흠/Noun...>\n"
     ]
    }
   ],
   "source": [
    "#데이터를 nltk.Text로 묶고\n",
    "import nltk\n",
    "text = nltk.Text(tokens)  #nltk.Text()는 문서 하나를 편리하게 탐색할 수 있는 다양한 기능을 제공\n",
    "print(text)"
   ]
  },
  {
   "cell_type": "code",
   "execution_count": 9,
   "metadata": {},
   "outputs": [
    {
     "name": "stdout",
     "output_type": "stream",
     "text": [
      "2194536\n",
      "48765\n",
      "[('./Punctuation', 68630),\n",
      " ('영화/Noun', 51365),\n",
      " ('하다/Verb', 50281),\n",
      " ('이/Josa', 39123),\n",
      " ('보다/Verb', 34764),\n",
      " ('의/Josa', 30480),\n",
      " ('../Punctuation', 29055),\n",
      " ('에/Josa', 27108),\n",
      " ('가/Josa', 26696),\n",
      " ('을/Josa', 23481)]\n"
     ]
    }
   ],
   "source": [
    "print(len(text.tokens))                 # returns number of tokens\n",
    "print(len(set(text.tokens)))            # returns number of unique tokens\n",
    "pprint(text.vocab().most_common(10))    # returns frequency distribution"
   ]
  },
  {
   "cell_type": "code",
   "execution_count": 12,
   "metadata": {},
   "outputs": [
    {
     "name": "stdout",
     "output_type": "stream",
     "text": [
      "[('수간/Noun', 1),\n",
      " ('디케이드/Noun', 1),\n",
      " ('Carl/Alpha', 1),\n",
      " ('http://blog.naver.com/oroblast/220215679580/URL', 1),\n",
      " ('찎었/Noun', 1),\n",
      " ('십점줌/Noun', 1),\n",
      " ('열외/Noun', 1),\n",
      " ('축적/Noun', 1),\n",
      " ('섹귀들/Noun', 1),\n",
      " ('ㅍㄹㄱ/KoreanParticle', 1),\n",
      " ('차후/Noun', 1),\n",
      " ('차이니즈/Noun', 1),\n",
      " ('신해혁명/Noun', 1),\n",
      " ('샤오린/Noun', 1),\n",
      " ('대병소장/Noun', 1),\n",
      " ('초코/Noun', 1),\n",
      " ('윤영삼/Noun', 1),\n",
      " ('노형욱/Noun', 1),\n",
      " ('머싰따능/Noun', 1)]\n"
     ]
    }
   ],
   "source": [
    "pprint(text.vocab().most_common()[:-20:-1])  #참고, 반대로 잘 안나오는거"
   ]
  },
  {
   "cell_type": "markdown",
   "metadata": {},
   "source": [
    "* Collocations (연어): 인접하게 빈번하게 등장하는 단어 (ex: \"text\" + \"mining\")"
   ]
  },
  {
   "cell_type": "code",
   "execution_count": 13,
   "metadata": {},
   "outputs": [
    {
     "name": "stdout",
     "output_type": "stream",
     "text": [
      "Displaying 25 of 3899 matches:\n",
      "rticle 아/Exclamation ../Punctuation 시간/Noun 아깝다/Adjective 재밌다/Adjective 별점/Noun\n",
      "eanParticle 내/Noun ㅇ/KoreanParticle 시간/Noun 넘다/Verb 아깝다/Adjective 움/Noun ../Pun\n",
      "tion 평점/Noun 에/Josa 속지/Noun 말다/Verb 시간/Noun 낭비/Noun 돈/Noun 낭비/Noun 임/Noun 리얼리티/\n",
      "하다/Adjective 난/Noun 별루더/Noun 라/Josa 시간/Noun 낭비/Noun 느낌/Noun 대박/Noun 시청률/Noun 기준\n",
      "Josa 수작/Noun 이라/Josa 고본/Noun 다/Josa 시간/Noun 이/Josa 아깝다/Adjective 않다/Verb 영화/Nou\n",
      "Josa 한번/Noun 더/Noun 하다/Verb 되다/Verb 시간/Noun ./Punctuation 그리고/Conjunction 모건/No\n",
      "/Noun 적/Suffix 계기/Noun 그/Determiner 시간/Noun 이/Josa 표현/Noun 되다/Verb 않다/Verb 시람/N\n",
      " 좋다/Adjective 뻔하다/Adjective 새벽/Noun 시간/Noun 에/Josa 하다/Verb 일본/Noun 영화/Noun 들/Su\n",
      "oun 을/Josa 다시/Noun 느끼다/Verb 보다/Verb 시간/Noun 이다/Verb ./Punctuation 장면/Noun 하나/No\n",
      "실망/Noun ../Punctuation 이/Determiner 시간/Noun 좀/Noun .../Punctuation 밝다/Verb 긍정/N\n",
      "ctive 드럽/Noun 게/Josa 재미없다/Adjective 시간/Noun 이/Josa 돈/Noun 이다/Josa ?/Punctuation\n",
      "돈/Noun 이다/Josa ?/Punctuation 내/Noun 시간/Noun 은/Josa 어쩌다/Verb 그저/Adverb 한마디/Noun \n",
      "oun 보고/Noun 계시다/Verb 당신/Noun 의/Josa 시간/Noun 과/Josa 돈/Noun 을/Josa 아끼다/Verb ^.^/P\n",
      "가다/Verb ./Punctuation 돈/Noun 과/Josa 시간/Noun 이/Josa 아깝다/Adjective 영화/Noun 네러티브/N\n",
      "다/Adjective 극장판/Noun 은/Josa 정말/Noun 시간/Noun 가다/Verb 모르다/Verb 보다/Verb 역시/Noun 싸다\n",
      "Verb 같다/Adjective ㅋㅋ/KoreanParticle 시간/Noun 이/Josa 흘르다/Verb 퇴색/Noun 되다/Verb 않다/\n",
      "/Adjective 기억/Noun 으로/Josa 남기다/Verb 시간/Noun 의/Josa 상대성/Noun 이론/Noun 에/Josa 관/No\n",
      "다/Adjective 보다/Verb 영화/Noun 교양/Noun 시간/Noun 에/Josa 보고/Noun 좀/Noun 충격/Noun 먹다/Ve\n",
      "Noun 하나/Noun 갖추다/Verb 못/Noun 한/Josa 시간/Noun 이/Josa 넘다/Verb 아깝다/Adjective 억지/Nou\n",
      "O/Alpha 같다/Adjective 영화/Noun 개/Noun 시간/Noun 낭비/Noun 의미/Noun 도/Josa 없다/Adjective\n",
      "너무/Noun 없다/Adjective ../Punctuation 시간/Noun 아깝다/Adjective 난/Noun 재다/Verb ../Pun\n",
      "/Noun 아오/Exclamation ../Punctuation 시간/Noun 아깝다/Adjective 예고편/Noun 을/Josa 왜/Nou\n",
      "다/Adjective 지미/Noun +_+/Punctuation 시간/Noun 이/Josa 지나다/Verb 또/Noun 봐/Noun 도/Jos\n",
      "/Noun 의/Josa 영화/Noun ../Punctuation 시간/Noun 이/Josa 남아/Noun 돌때/Noun 봐/Noun 도/Jos\n",
      "/Josa 남아/Noun 돌때/Noun 봐/Noun 도/Josa 시간/Noun 이/Josa 아깝다/Adjective 역대/Noun 급/Suff\n"
     ]
    }
   ],
   "source": [
    "text.concordance('시간/Noun')  #시간이 쓰인 모든 경우의 문맥을 찾아줌"
   ]
  },
  {
   "cell_type": "markdown",
   "metadata": {},
   "source": [
    "## 3. Sentiment classification with term-existance*\n",
    "여기서는 간단하게 term이 문서에 존재하는지의 유무에 따라 분류를 해보자."
   ]
  },
  {
   "cell_type": "code",
   "execution_count": 14,
   "metadata": {},
   "outputs": [],
   "source": [
    "# 여기서는 최빈도 단어 2000개를 피쳐로 사용\n",
    "\n",
    "selected_words = [f[0] for f in text.vocab().most_common(2000)]\n",
    "def term_exists(doc):\n",
    "    return {'exists({})'.format(word): (word in set(doc)) for word in selected_words}\n",
    "\n",
    "# 시간 단축을 위한 꼼수로 training corpus의 일부만 사용\n",
    "train_docs = train_docs[:10000]\n",
    "train_xy = [(term_exists(d), c) for d, c in train_docs]\n",
    "test_xy = [(term_exists(d), c) for d, c in test_docs]"
   ]
  },
  {
   "cell_type": "markdown",
   "metadata": {},
   "source": [
    "최빈도 단어들은 의미가 없을 수 있다. 최상위 50개를 제거하고 분석하면?\n",
    "\n",
    "TF, TF-IDF의 성능은?\n",
    "코드 최적화(sparse matrix) or scikit-learn의 TfidfVectorizer()를 이용!"
   ]
  },
  {
   "cell_type": "markdown",
   "metadata": {},
   "source": [
    "다양한 분류기를 이용할 수 있다. (nltk 제공)\n",
    "- NLTK\n",
    "  * Naive Bayes Classifiers\n",
    "  * Decision Tree Classifiers\n",
    "  * Maximum Entropy Classifiers\n",
    "  * scikit-learn 등 다른 패키지 분류기도 얼마든지 사용 가능"
   ]
  },
  {
   "cell_type": "code",
   "execution_count": 15,
   "metadata": {},
   "outputs": [
    {
     "name": "stdout",
     "output_type": "stream",
     "text": [
      "0.80416\n",
      "Most Informative Features\n",
      "         exists(수작/Noun) = True                1 : 0      =     38.0 : 1.0\n",
      "         exists(최악/Noun) = True                0 : 1      =     30.1 : 1.0\n",
      "       exists(♥/Foreign) = True                1 : 0      =     24.5 : 1.0\n",
      "         exists(노잼/Noun) = True                0 : 1      =     22.1 : 1.0\n",
      "         exists(낭비/Noun) = True                0 : 1      =     19.5 : 1.0\n",
      "        exists(쓰레기/Noun) = True                0 : 1      =     19.4 : 1.0\n",
      "         exists(여운/Noun) = True                1 : 0      =     18.9 : 1.0\n",
      "        exists(발연기/Noun) = True                0 : 1      =     16.9 : 1.0\n",
      "          exists(굿/Noun) = True                1 : 0      =     16.9 : 1.0\n",
      "        exists(최고다/Noun) = True                1 : 0      =     15.9 : 1.0\n"
     ]
    }
   ],
   "source": [
    "# Naive Bayes classifier 적용\n",
    "\n",
    "# 초간단함\n",
    "classifier = nltk.NaiveBayesClassifier.train(train_xy)\n",
    "print(nltk.classify.accuracy(classifier, test_xy))\n",
    "\n",
    "classifier.show_most_informative_features(10)\n",
    "\n",
    "# 0.80418\n",
    "# => Most Informative Features\n",
    "#        exists(수작/Noun) = True                1 : 0      =     38.0 : 1.0\n",
    "#        exists(최악/Noun) = True                0 : 1      =     30.1 : 1.0\n",
    "#      exists(♥/Foreign) = True                1 : 0      =     24.5 : 1.0\n",
    "#        exists(노잼/Noun) = True                0 : 1      =     22.1 : 1.0\n",
    "#        exists(낭비/Noun) = True                0 : 1      =     19.5 : 1.0\n",
    "#       exists(쓰레기/Noun) = True                0 : 1      =     19.4 : 1.0\n",
    "#        exists(여운/Noun) = True                1 : 0      =     18.9 : 1.0\n",
    "#       exists(발연기/Noun) = True                0 : 1      =     16.9 : 1.0\n",
    "#         exists(굿/Noun) = True                1 : 0      =     16.9 : 1.0\n",
    "#       exists(최고다/Noun) = True                1 : 0      =     15.9 : 1.0"
   ]
  },
  {
   "cell_type": "markdown",
   "metadata": {},
   "source": [
    "리뷰 1만개만 쓴 경우에도 accuracy가 0.80이 나왔다. 나름 성공적"
   ]
  }
 ],
 "metadata": {
  "kernelspec": {
   "display_name": "Python 3",
   "language": "python",
   "name": "python3"
  },
  "language_info": {
   "codemirror_mode": {
    "name": "ipython",
    "version": 3
   },
   "file_extension": ".py",
   "mimetype": "text/x-python",
   "name": "python",
   "nbconvert_exporter": "python",
   "pygments_lexer": "ipython3",
   "version": "3.6.4"
  }
 },
 "nbformat": 4,
 "nbformat_minor": 2
}
