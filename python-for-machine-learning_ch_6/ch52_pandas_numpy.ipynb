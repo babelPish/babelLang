{
 "cells": [
  {
   "cell_type": "markdown",
   "metadata": {},
   "source": [
    "# 5-8. Pandas/NumPy "
   ]
  },
  {
   "cell_type": "markdown",
   "metadata": {},
   "source": [
    "## Pandas/NumPy\n",
    "\n",
    "pandas/numpy는 고급 데이터 분석과 수치 계산 등의 기능을 제공하는 확장 모듈이다.\n",
    "\n",
    "numpy는 수치 계산을 효율적으로 하기위한 모듈로서, 다차원 배열과 고수준의 수학 함수를 제공한다\n",
    "\n",
    "pandas는 데이터 분석 기능을 제공하는 라이브러리로서, csv 파일 등의 데이터를 읽고 원하는 데이터 형식으로 변환해 준다.\n",
    "\n",
    "전체 배열의 원소가 동일한 타입이어야하는 numpy와는 달리 pandas는 각 열의 타입이달라도 됨"
   ]
  },
  {
   "cell_type": "code",
   "execution_count": 3,
   "metadata": {},
   "outputs": [],
   "source": [
    "import pandas as pd\n",
    "import numpy as np"
   ]
  },
  {
   "cell_type": "markdown",
   "metadata": {},
   "source": [
    "### DataFrame\n",
    "\n",
    "pandas에서 사용하는 기본데이터는 데이터프레임이다. 데이터프레임을 정의할 때는 2차원 리스트를 매개변수로 전달한다"
   ]
  },
  {
   "cell_type": "code",
   "execution_count": 2,
   "metadata": {},
   "outputs": [
    {
     "name": "stdout",
     "output_type": "stream",
     "text": [
      "    0   1   2\n",
      "0  10  20  30\n",
      "1  40  50  60\n",
      "2  70  80  90\n"
     ]
    }
   ],
   "source": [
    "import pandas as pd\n",
    "a = pd.DataFrame([\n",
    "    [10,20,30],\n",
    "    [40,50,60],\n",
    "    [70,80,90]\n",
    "])\n",
    "print(a)"
   ]
  },
  {
   "cell_type": "markdown",
   "metadata": {},
   "source": [
    "1차원 데이터는 Series를 사용한다"
   ]
  },
  {
   "cell_type": "code",
   "execution_count": 4,
   "metadata": {},
   "outputs": [
    {
     "name": "stdout",
     "output_type": "stream",
     "text": [
      "0    1.0\n",
      "1    3.0\n",
      "2    5.0\n",
      "3    7.0\n",
      "4    9.0\n",
      "dtype: float64\n"
     ]
    }
   ],
   "source": [
    "import pandas as pd\n",
    "import numpy as np\n",
    "s = pd.Series([1.0, 3.0, 5.0, 7.0, 9.0])\n",
    "print(s)\n",
    "\n",
    "# 인덱스번호와 함께 자료형도 출력됨"
   ]
  },
  {
   "cell_type": "markdown",
   "metadata": {},
   "source": [
    "### 원하는 데이터 추출하기\n",
    "\n",
    "1차원 리스트가 들어있는 딕셔너리 자료형의 데이터가 있을 떄 키로 원하는 열의 데이터를 추출할 수 있다"
   ]
  },
  {
   "cell_type": "code",
   "execution_count": 14,
   "metadata": {},
   "outputs": [
    {
     "name": "stdout",
     "output_type": "stream",
     "text": [
      "몸무게 목록\n",
      "0    80.0\n",
      "1    70.4\n",
      "2    65.5\n",
      "3    45.9\n",
      "4    51.2\n",
      "Name: weight, dtype: float64\n",
      "몸무게와 키 목록\n",
      "   weight  height\n",
      "0    80.0     170\n",
      "1    70.4     180\n",
      "2    65.5     155\n",
      "3    45.9     143\n",
      "4    51.2     154\n"
     ]
    }
   ],
   "source": [
    "import pandas as pd\n",
    "# 키, 몸무게, 유형 데이터프레임 생성하기\n",
    "tbl = pd.DataFrame({\n",
    "    \"weight\": [ 80.0, 70.4, 65.5, 45.9, 51.2 ],\n",
    "    \"height\": [ 170,  180,  155,  143,  154  ],\n",
    "    \"type\":   [ \"f\", \"n\", \"n\", \"t\", \"t\"]\n",
    "})\n",
    "# 몸무게 목록 추출하기\n",
    "print(\"몸무게 목록\")\n",
    "print(tbl[\"weight\"])  #tbl.get(\"weight\")\n",
    "\n",
    "# 몸무게와 키 목록 추출하기\n",
    "print(\"몸무게와 키 목록\")\n",
    "print(tbl[[\"weight\",\"height\"]])"
   ]
  },
  {
   "cell_type": "markdown",
   "metadata": {},
   "source": [
    "원하는 위치의 값을 추출할 때는 파이썬 리스트처럼 슬라이스를 사용한다"
   ]
  },
  {
   "cell_type": "code",
   "execution_count": 18,
   "metadata": {},
   "outputs": [
    {
     "name": "stdout",
     "output_type": "stream",
     "text": [
      "tbl[2:4]\n",
      "    height type  weight\n",
      "2     155    n    65.5\n",
      "3     143    t    45.9\n",
      "tbl[3:]\n",
      "    height type  weight\n",
      "3     143    t    45.9\n",
      "4     154    t    51.2\n"
     ]
    }
   ],
   "source": [
    "import pandas as pd\n",
    "# 키, 몸무게, 유형 데이터프레임 생성하기\n",
    "tbl = pd.DataFrame({\n",
    "    \"weight\": [ 80.0, 70.4, 65.5, 45.9, 51.2 ],\n",
    "    \"height\": [ 170,  180,  155,  143,  154  ],\n",
    "    \"type\":   [ \"f\", \"n\", \"n\", \"t\", \"t\"]\n",
    "})\n",
    "# (0부터 세었을 때) 2~3번째 데이터 출력\n",
    "print(\"tbl[2:4]\\n\", tbl[2:4])\n",
    "\n",
    "\n",
    "# (0부터 세었을 때) 3번째 이후의 데이터 출력\n",
    "print(\"tbl[3:]\\n\", tbl[3:])"
   ]
  },
  {
   "cell_type": "code",
   "execution_count": 19,
   "metadata": {},
   "outputs": [
    {
     "name": "stdout",
     "output_type": "stream",
     "text": [
      "--- height가 160 이상인 것\n",
      "  gender  height  weight\n",
      "0      f     170    80.0\n",
      "1      m     180    70.4\n",
      "5      m     160    72.5\n",
      "--- gender가 m 인 것\n",
      "  gender  height  weight\n",
      "1      m     180    70.4\n",
      "2      m     155    65.5\n",
      "5      m     160    72.5\n"
     ]
    }
   ],
   "source": [
    "#원하는 조건의 값 추출하기\n",
    "\n",
    "import pandas as pd\n",
    "# 키, 몸무게, 유형 데이터프레임 생성하기\n",
    "tbl = pd.DataFrame({\n",
    "    \"weight\": [ 80.0, 70.4, 65.5, 45.9, 51.2, 72.5 ],\n",
    "    \"height\": [ 170,  180,  155,  143,  154,  160  ],\n",
    "    \"gender\": [ \"f\",  \"m\",  \"m\",  \"f\",  \"f\",  \"m\"  ]\n",
    "})\n",
    "print(\"--- height가 160 이상인 것\")\n",
    "print(tbl[tbl.height >= 160])  #객체[<칼럼 이름><비교연산자><값>]\n",
    "print(\"--- gender가 m 인 것\")\n",
    "print(tbl[tbl.gender == \"m\"])"
   ]
  },
  {
   "cell_type": "markdown",
   "metadata": {},
   "source": [
    "### 정렬과 반전"
   ]
  },
  {
   "cell_type": "code",
   "execution_count": 22,
   "metadata": {},
   "outputs": [
    {
     "name": "stdout",
     "output_type": "stream",
     "text": [
      "--- 키로 정렬\n",
      "  gender  height  weight\n",
      "3      f     143    45.9\n",
      "4      f     154    51.2\n",
      "2      m     155    65.5\n",
      "5      m     160    72.5\n",
      "0      f     170    80.0\n",
      "1      m     180    70.4\n",
      "--- 몸무게로 정렬\n",
      "  gender  height  weight\n",
      "0      f     170    80.0\n",
      "5      m     160    72.5\n",
      "1      m     180    70.4\n",
      "2      m     155    65.5\n",
      "4      f     154    51.2\n",
      "3      f     143    45.9\n",
      "--- 키, gender로 정렬\n",
      "  gender  height  weight\n",
      "3      f     143    45.9\n",
      "4      f     154    51.2\n",
      "0      f     170    80.0\n",
      "2      m     155    65.5\n",
      "5      m     160    72.5\n",
      "1      m     180    70.4\n"
     ]
    }
   ],
   "source": [
    "import pandas as pd\n",
    "# 키, 몸무게, 유형 데이터프레임 생성하기\n",
    "tbl = pd.DataFrame({\n",
    "    \"weight\": [ 80.0, 70.4, 65.5, 45.9, 51.2, 72.5 ],\n",
    "    \"height\": [ 170,  180,  155,  143,  154,  160  ],\n",
    "    \"gender\": [ \"f\",  \"m\",  \"m\",  \"f\",  \"f\",  \"m\"  ]\n",
    "})\n",
    "print(\"--- 키로 정렬\")\n",
    "print(tbl.sort_values(by=\"height\")) # by=column이름, 디폴트 오름차순. ascending = 내림차순\n",
    "print(\"--- 몸무게로 정렬\")\n",
    "print(tbl.sort_values(by=\"weight\", ascending=False))\n",
    "print(\"--- 키, gender로 정렬\")\n",
    "print(tbl.sort_values(by=[\"gender\", \"height\"])) #multiple sort도 가능하다. list형태로 2개 이상의 column을 넣을 수 있다."
   ]
  },
  {
   "cell_type": "code",
   "execution_count": 24,
   "metadata": {},
   "outputs": [
    {
     "name": "stdout",
     "output_type": "stream",
     "text": [
      "   0  1  2\n",
      "0  A  B  C\n",
      "1  D  E  F\n",
      "2  G  H  I\n",
      "---------------------\n",
      "   0  1  2\n",
      "0  A  D  G\n",
      "1  B  E  H\n",
      "2  C  F  I\n"
     ]
    }
   ],
   "source": [
    "# 행과 열 반전하기\n",
    "\n",
    "import pandas as pd\n",
    "tbl = pd.DataFrame([\n",
    "    [\"A\", \"B\", \"C\"],\n",
    "    [\"D\", \"E\", \"F\"],\n",
    "    [\"G\", \"H\", \"I\"]\n",
    "])\n",
    "print(tbl)\n",
    "print('---------------------')\n",
    "print(tbl.T)"
   ]
  },
  {
   "cell_type": "markdown",
   "metadata": {},
   "source": [
    "* pandas 참고\n",
    "https://dandyrilla.github.io/2017-08-12/pandas-10min/"
   ]
  },
  {
   "cell_type": "markdown",
   "metadata": {},
   "source": [
    "### 데이터 조작"
   ]
  },
  {
   "cell_type": "markdown",
   "metadata": {},
   "source": [
    "numpy를 이용하면 여러 데이터를 한꺼번에 조작을 가할 수 있다"
   ]
  },
  {
   "cell_type": "code",
   "execution_count": 27,
   "metadata": {},
   "outputs": [
    {
     "name": "stdout",
     "output_type": "stream",
     "text": [
      "[0. 0. 0. 0. 0. 0. 0. 0. 0. 0.]\n",
      "[0 1 2 3 4 5 6 7 8 9]\n",
      "[ 0  3  6  9 12 15 18 21 24 27]\n",
      "13.5\n"
     ]
    }
   ],
   "source": [
    "import numpy as np\n",
    "# 10개의 float32 자료형 데이터 생성\n",
    "v = np.zeros(10, dtype=np.float32)  \n",
    "#크기가 정해져 있고 모든 값이 0인 배열을 생성하려면 zeros 명령을 사용한다. 인수로는 배열을 크기를 뜻하는 정수를 넣는다.\n",
    "#dtype 인수를 명시하면 해당 자료형 원소를 가진 배열을 만든다.\n",
    "print(v)\n",
    "\n",
    "# 연속된 10개의 uint64 자료형 데이터 생성\n",
    "v = np.arange(10) #arange 명령은 NumPy 버전의 range 명령이라고 볼 수 있다. 특정한 규칙에 따라 증가하는 수열을 만든다.\n",
    "print(v)\n",
    "\n",
    "# v 값을 3배하기\n",
    "v *= 3\n",
    "print(v)\n",
    "\n",
    "# v의 평균 구하기\n",
    "print(v.mean())"
   ]
  },
  {
   "cell_type": "code",
   "execution_count": 28,
   "metadata": {},
   "outputs": [
    {
     "name": "stdout",
     "output_type": "stream",
     "text": [
      "   0  1  2\n",
      "0  A  B  C\n",
      "1  D  E  F\n",
      "2  G  H  I\n",
      "---\n",
      "   0  1  2\n",
      "0  A  D  G\n",
      "1  B  E  H\n",
      "2  C  F  I\n"
     ]
    }
   ],
   "source": [
    "#pandas의 datafame으로도 같은 처리를 할 수 있다\n",
    "import pandas as pd\n",
    "tbl = pd.DataFrame([\n",
    "    [\"A\", \"B\", \"C\"],\n",
    "    [\"D\", \"E\", \"F\"],\n",
    "    [\"G\", \"H\", \"I\"]\n",
    "])\n",
    "print(tbl)\n",
    "print(\"---\")\n",
    "print(tbl.T)"
   ]
  },
  {
   "cell_type": "code",
   "execution_count": 35,
   "metadata": {},
   "outputs": [
    {
     "name": "stdout",
     "output_type": "stream",
     "text": [
      "weight = 45.9 - 80.0\n",
      "height = 143 - 180\n",
      "  gender    height    weight\n",
      "0      f  0.729730  1.000000\n",
      "1      m  1.000000  0.718475\n",
      "2      m  0.324324  0.574780\n",
      "3      f  0.000000  0.000000\n",
      "4      f  0.297297  0.155425\n",
      "5      m  0.459459  0.780059\n"
     ]
    }
   ],
   "source": [
    "import pandas as pd\n",
    "# 키, 체중, 유형 데이터프레임 생성하기\n",
    "tbl = pd.DataFrame({\n",
    "    \"weight\": [ 80.0, 70.4, 65.5, 45.9, 51.2, 72.5 ],\n",
    "    \"height\": [ 170,  180,  155,  143,  154,  160  ],\n",
    "    \"gender\": [ \"f\",  \"m\",  \"m\",  \"f\",  \"f\",  \"m\"  ]\n",
    "})\n",
    "# 키와 몸무게 정규화하기\n",
    "# 최댓값과 최솟값 구하기\n",
    "def norm(tbl, key):\n",
    "    c = tbl[key]\n",
    "    v_max = c.max()\n",
    "    v_min = c.min()\n",
    "    print(key, \"=\", v_min, \"-\", v_max)\n",
    "    tbl[key] = (c - v_min) / (v_max - v_min)\n",
    "norm(tbl, \"weight\")\n",
    "norm(tbl, \"height\")\n",
    "print(tbl)"
   ]
  },
  {
   "cell_type": "markdown",
   "metadata": {},
   "source": [
    "#### numpy로 변환하기\n",
    "\n",
    "머신러닝 라이브러리에 따라 pandas의 dataframe을 지원하지 않은 경우가 있다. 이럴때는 numpy형식으로 변환해야한다.\n",
    "as_matrix()를 이용하면 numpy의 ndarray 자료형의 배열로 변환할 수 있다"
   ]
  },
  {
   "cell_type": "code",
   "execution_count": 36,
   "metadata": {},
   "outputs": [
    {
     "name": "stdout",
     "output_type": "stream",
     "text": [
      "[['f' 0.7297297297297297 1.0]\n",
      " ['m' 1.0 0.7184750733137831]\n",
      " ['m' 0.32432432432432434 0.5747800586510264]\n",
      " ['f' 0.0 0.0]\n",
      " ['f' 0.2972972972972973 0.15542521994134909]\n",
      " ['m' 0.4594594594594595 0.7800586510263929]]\n"
     ]
    }
   ],
   "source": [
    "n = tbl.as_matrix()\n",
    "print(n)"
   ]
  },
  {
   "cell_type": "markdown",
   "metadata": {},
   "source": [
    "* ndarray 참고\n",
    "\n",
    " - http://sinpong.tistory.com/120\n",
    " - https://datascienceschool.net/view-notebook/17608f897087478bbeac096438c716f6/\n",
    " - https://github.com/psygrammer/psytracker/blob/master/psytracker_3.md\n"
   ]
  }
 ],
 "metadata": {
  "kernelspec": {
   "display_name": "Python 3",
   "language": "python",
   "name": "python3"
  },
  "language_info": {
   "codemirror_mode": {
    "name": "ipython",
    "version": 3
   },
   "file_extension": ".py",
   "mimetype": "text/x-python",
   "name": "python",
   "nbconvert_exporter": "python",
   "pygments_lexer": "ipython3",
   "version": "3.6.4"
  }
 },
 "nbformat": 4,
 "nbformat_minor": 2
}
