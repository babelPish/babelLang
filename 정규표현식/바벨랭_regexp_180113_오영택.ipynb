{
 "cells": [
  {
   "cell_type": "markdown",
   "metadata": {},
   "source": [
    "# 정규표현식 A - W"
   ]
  },
  {
   "cell_type": "markdown",
   "metadata": {},
   "source": [
    "### 발표자 오영택"
   ]
  },
  {
   "cell_type": "markdown",
   "metadata": {},
   "source": [
    "# Part0"
   ]
  },
  {
   "cell_type": "markdown",
   "metadata": {},
   "source": [
    "# 정규표현식 (wiki)\n",
    "<br>\n",
    "주로 패턴(pattern)으로 부르는 정규 표현식은 특정 목적을 위해 필요한 문자열 집합을 지정하기 위해 쓰이는 식이다. "
   ]
  },
  {
   "cell_type": "markdown",
   "metadata": {},
   "source": [
    "# Reference = 점프투파이썬 (https://wikidocs.net/)"
   ]
  },
  {
   "cell_type": "markdown",
   "metadata": {
    "collapsed": true
   },
   "source": [
    "# 정규 표현식은 왜 필요한가?\n",
    "\n",
    "다음과 같은 문제가 주어졌다고 가정해 보자.<br>\n",
    "### 주민등록번호를 포함하고 있는 텍스트가 있다. 이 텍스트에 포함된 모든 주민등록번호의 뒷자리를 * 문자로 변경하시오.\n",
    "<br>"
   ]
  },
  {
   "cell_type": "code",
   "execution_count": null,
   "metadata": {},
   "outputs": [],
   "source": [
    "data = \"\"\"\n",
    "park 800905-1049118\n",
    "kim  700905-1059119\n",
    "\"\"\"\n",
    "\n",
    "print(data)"
   ]
  },
  {
   "cell_type": "markdown",
   "metadata": {},
   "source": [
    "우선, 정규식을 전혀 모르면 다음과 같은 순서로 프로그램을 작성해야 할 것이다.\n",
    "<br>\n",
    "1. 전체 텍스트를 공백 문자로 나눈다(split). <br>\n",
    "2. 나누어진 단어들이 주민등록번호 형식인지 조사한다. <br>\n",
    "3. 단어가 주민등록번호 형식이라면 뒷자리를 *로 변환한다. <br>\n",
    "4. 나누어진 단어들을 다시 조립한다. <br>"
   ]
  },
  {
   "cell_type": "code",
   "execution_count": null,
   "metadata": {},
   "outputs": [],
   "source": [
    "result = []\n",
    "for line in data.split(\"\\n\"):\n",
    "    word_result = []\n",
    "    for word in line.split(\" \"):\n",
    "        if len(word) == 14 and word[:6].isdigit() and word[7:].isdigit():\n",
    "            word = word[:6] + \"-\" + \"*******\"\n",
    "        word_result.append(word)\n",
    "    result.append(\" \".join(word_result))\n",
    "    \n",
    "print(\"\\n\".join(result))"
   ]
  },
  {
   "cell_type": "markdown",
   "metadata": {},
   "source": [
    "### 정규표현식을 사용한다면"
   ]
  },
  {
   "cell_type": "markdown",
   "metadata": {},
   "source": [
    "### sub 메서드의 첫 번째 입력 인수는 \"바꿀 문자열(replacement)\"이 되고, 두 번째 입력 인수는 \"대상 문자열\"이 된다."
   ]
  },
  {
   "cell_type": "code",
   "execution_count": null,
   "metadata": {
    "scrolled": true
   },
   "outputs": [],
   "source": [
    "import re \n",
    "\n",
    "pat = re.compile(\"(\\d{6})[-]\\d{7}\")\n",
    "print(pat.sub(\"\\g<1>-*******\", data))"
   ]
  },
  {
   "cell_type": "markdown",
   "metadata": {},
   "source": [
    "# Part1"
   ]
  },
  {
   "cell_type": "markdown",
   "metadata": {},
   "source": [
    "### 정규 표현식의 기초, 메타 문자"
   ]
  },
  {
   "cell_type": "markdown",
   "metadata": {},
   "source": [
    "정규 표현식에서 사용하는 메타 문자(meta characters)에는 다음과 같은 것들이 있다.\n",
    "\n",
    "(※ 메타 문자란 원래 그 문자가 가진 뜻이 아닌 특별한 용도로 사용되는 문자를 말한다.)\n",
    "\n",
    "## . ^ $ * + ? { } [ ] \\ | ( )"
   ]
  },
  {
   "cell_type": "markdown",
   "metadata": {
    "collapsed": true
   },
   "source": [
    "# 문자 클래스 [ ]\n",
    "문자 클래스로 만들어진 정규식은 \"[와 ] 사이의 문자들과 매치\"라는 의미를 갖는다.\n",
    "\n",
    "[ ] 안의 두 문자 사이에 하이픈(-)을 사용하게 되면 두 문자 사이의 범위(From - To)를 의미한다. 예를 들어 [a-c]라는 정규 표현식은 [abc]와 동일하고 [0-5]는 [012345]와 동일하다.\n",
    "\n",
    "문자 클래스([ ]) 내에는 어떤 문자나 메타 문자도 사용할수 있지만 주의해야 할 메타 문자가 1가지 있다. 그것은 바로 ^인데, 문자 클래스 내에 ^ 메타 문자가 사용될 경우에는 반대(not)라는 의미를 갖는다. 예를 들어 [^0-9]라는 정규 표현식은 숫자가 아닌 문자만 매치된다."
   ]
  },
  {
   "cell_type": "markdown",
   "metadata": {},
   "source": [
    "[자주 사용하는 문자 클래스]\n",
    "\n",
    "[0-9] 또는 [a-zA-Z] 등 자주 사용하는 정규 표현식\n",
    "\n",
    "#### \\d - 숫자와 매치, [0-9]와 동일한 표현식이다.\n",
    "#### \\D - 숫자가 아닌 것과 매치, [^0-9]와 동일한 표현식이다.\n",
    "#### \\s - whitespace 문자와 매치, [ \\t\\n\\r\\f\\v]와 동일한 표현식이다. 맨 앞의 빈 칸은 공백문자(space)를 의미한다.\n",
    "#### \\S - whitespace 문자가 아닌 것과 매치, [^ \\t\\n\\r\\f\\v]와 동일한 표현식이다.\n",
    "#### \\w - 문자+숫자(alphanumeric)와 매치, [a-zA-Z0-9]와 동일한 표현식이다.\n",
    "#### \\W - 문자+숫자(alphanumeric)가 아닌 문자와 매치, [^a-zA-Z0-9]와 동일한 표현식이다.\n",
    "대문자로 사용된 것은 소문자의 반대"
   ]
  },
  {
   "cell_type": "code",
   "execution_count": null,
   "metadata": {
    "collapsed": true
   },
   "outputs": [],
   "source": [
    "ex1 = 'a1b2c3d4!@#$ㄱㄴㄷㄹ'"
   ]
  },
  {
   "cell_type": "code",
   "execution_count": null,
   "metadata": {
    "collapsed": true
   },
   "outputs": [],
   "source": [
    "pattern = re.compile('\\d')"
   ]
  },
  {
   "cell_type": "markdown",
   "metadata": {},
   "source": [
    "#### ※ 패턴이란 정규식을 컴파일한 결과이다"
   ]
  },
  {
   "cell_type": "code",
   "execution_count": null,
   "metadata": {},
   "outputs": [],
   "source": [
    "pattern.sub('', ex1)"
   ]
  },
  {
   "cell_type": "code",
   "execution_count": null,
   "metadata": {},
   "outputs": [],
   "source": [
    "re.sub('\\W', '', ex1)"
   ]
  },
  {
   "cell_type": "markdown",
   "metadata": {},
   "source": [
    "# Dot(.)\n",
    "정규 표현식의 Dot(.) 메타 문자는 줄바꿈 문자인 \\n를 제외한 모든 문자와 매치됨을 의미한다.<br>\n",
    "(※ 정규식 작성 시 옵션으로 re.DOTALL이라는 옵션을 주면 \\n 문자와도 매치가 된다.)\n",
    "\n",
    "## a.b\n",
    "위 정규식의 의미\n",
    "\n",
    "### \"a + 모든문자 + b\"\n",
    "\n",
    "즉 a와 b라는 문자 사이에 어떤 문자가 들어가도 모두 매치된다는 의미\n",
    "\n",
    "#### \"aab\"는 가운데 문자 \"a\"가 모든 문자를 의미하는 .과 일치하므로 정규식과 매치된다.\n",
    "#### \"a0b\"는 가운데 문자 \"0\"가 모든 문자를 의미하는 .과 일치하므로 정규식과 매치된다.\n",
    "#### \"abc\"는 \"a\"문자와 \"b\"문자 사이에 어떤 문자라도 하나는있어야 하는 이 정규식과 일치하지 않으므로 매치되지 않는다.\n",
    "\n",
    "※ .는 \\n을 제외한 모든 문자와 매치되는데 심지어 \\n문자와도 매치되게 할 수도 있다. 나중에 알아보겠지만 정규식 작성시 옵션으로 re.DOTALL 이라는 옵션을 주면 \\n문자와도 매치되게 할 수 있다."
   ]
  },
  {
   "cell_type": "code",
   "execution_count": null,
   "metadata": {
    "collapsed": true
   },
   "outputs": [],
   "source": [
    "pattern = re.compile('a.b')"
   ]
  },
  {
   "cell_type": "code",
   "execution_count": null,
   "metadata": {
    "collapsed": true
   },
   "outputs": [],
   "source": [
    "ex2 = 'abcde a1111b a5b abbaab aab'"
   ]
  },
  {
   "cell_type": "code",
   "execution_count": null,
   "metadata": {},
   "outputs": [],
   "source": [
    "pattern.sub('*', ex2)"
   ]
  },
  {
   "cell_type": "markdown",
   "metadata": {},
   "source": [
    "#### ※ 만약 앞에서 살펴본 문자 클래스([]) 내에 Dot(.) 메타 문자가 사용된다면 이것은 \"모든 문자\"라는 의미가 아닌 문자 . 그대로를 의미한다. 혼동하지 않도록 주의하자."
   ]
  },
  {
   "cell_type": "code",
   "execution_count": null,
   "metadata": {
    "collapsed": true
   },
   "outputs": [],
   "source": [
    "prac1 = '1a.b3ab4acb5'"
   ]
  },
  {
   "cell_type": "code",
   "execution_count": null,
   "metadata": {},
   "outputs": [],
   "source": [
    "re.sub('a.b', '', prac1)"
   ]
  },
  {
   "cell_type": "code",
   "execution_count": null,
   "metadata": {},
   "outputs": [],
   "source": [
    "re.sub('a[.]b', '', prac1)"
   ]
  },
  {
   "cell_type": "code",
   "execution_count": null,
   "metadata": {},
   "outputs": [],
   "source": [
    "re.sub('a\\.b', '', prac1)"
   ]
  },
  {
   "cell_type": "markdown",
   "metadata": {},
   "source": [
    "# 반복 (*)\n",
    "#### \\*의 의미는 *바로 앞에 있는 문자 a가 0부터 무한대로 반복될 수 있다는 의미\n",
    "\n",
    "# 반복 (+)\n",
    "#### +는 최소 1번 이상 반복될 때 사용\n",
    "<br>\n",
    "## pattern\n",
    "## 1. ca*t\n",
    "## 2. ca+t\n",
    "<br>\n",
    "### String\n",
    "### ct\n",
    "### cat\n",
    "### caaaaaat\n",
    "\n",
    "정규식\t문자열\tMatch 여부\t설명\n",
    "#### ca*t  ct\t     Yes\t\"a\"가 0번 반복되어 매치\n",
    "#### ca*t\tcat\t     Yes\t\"a\"가 0번 이상 반복되어 매치 (1번 반복)\n",
    "#### ca*t\tcaaat\tYes\t    \"a\"가 0번 이상 반복되어 매치 (3번 반복)\n",
    "반복 (+)\n",
    "※ 여기서 * 메타문자의 반복갯수가 무한개"
   ]
  },
  {
   "cell_type": "code",
   "execution_count": null,
   "metadata": {
    "collapsed": true
   },
   "outputs": [],
   "source": [
    "pat1 = re.compile('ca*t')\n",
    "pat2 = re.compile('ca+t')\n",
    "ex2 = ['ct', 'cat', 'caat', 'caaat', 'caaaat']"
   ]
  },
  {
   "cell_type": "code",
   "execution_count": null,
   "metadata": {},
   "outputs": [],
   "source": [
    "print('Case1:')\n",
    "for ex in ex2:\n",
    "    print(pat1.sub('고양이', ex))"
   ]
  },
  {
   "cell_type": "code",
   "execution_count": null,
   "metadata": {},
   "outputs": [],
   "source": [
    "print('Case2:')\n",
    "for ex in ex2:\n",
    "    print(pat2.sub('고양이', ex))"
   ]
  },
  {
   "cell_type": "markdown",
   "metadata": {},
   "source": [
    "# 반복 {m,n}\n",
    "반복 횟수를 3회만 또는 1회부터 3회까지만으로 제한하고 싶을 수도 있지 않을까?<br>\n",
    "{ } 메타 문자를 이용하면 반복 횟수를 고정시킬 수 있다.<br>\n",
    "{m, n} 정규식을 사용하면 반복 횟수가 m부터 n까지인 것을 매치할 수 있다. 또한 m 또는 n을 생략할 수도 있다. <br>\n",
    "만약 {3,} 처럼 사용하면 반복 횟수가 3 이상인 경우이고 {,3} 처럼 사용하면 반복 횟수가 3 이하인 것을 의미한다. 생략된 m은 0과 동일하며, 생략된 n은 무한대(2억개 미만)의 의미를 갖는다.<br>\n",
    "\n",
    "※ {1,}은 +와 동일하며 {0,}은 *와 동일하다.\n",
    "\n",
    "# 반복 ?\n",
    "? 메타문자가 의미하는 것은 {0, 1} 이다. 즉 {0,1}과 동일<br>\n",
    "다음의 정규식을 보자.<br>\n",
    "\n",
    "## ab?c\n",
    "\n",
    "### \"a + b(있어도 되고 없어도 된다) + c\""
   ]
  },
  {
   "cell_type": "code",
   "execution_count": null,
   "metadata": {
    "collapsed": true
   },
   "outputs": [],
   "source": [
    "pat3 = re.compile('ca{2}t')\n",
    "pat4 = re.compile('ca{2,3}t')\n",
    "pat5 = re.compile('ca?t')\n",
    "ex2 = ['ct', 'cat', 'caat', 'caaat', 'caaaat']"
   ]
  },
  {
   "cell_type": "code",
   "execution_count": null,
   "metadata": {},
   "outputs": [],
   "source": [
    "print('Case3:')\n",
    "for ex in ex2:\n",
    "    print(pat3.sub('고양이', ex))"
   ]
  },
  {
   "cell_type": "code",
   "execution_count": null,
   "metadata": {},
   "outputs": [],
   "source": [
    "print('Case4:')\n",
    "for ex in ex2:\n",
    "    print(pat4.sub('고양이', ex))"
   ]
  },
  {
   "cell_type": "code",
   "execution_count": null,
   "metadata": {},
   "outputs": [],
   "source": [
    "print('Case5:')\n",
    "for ex in ex2:\n",
    "    print(pat5.sub('고양이', ex))"
   ]
  },
  {
   "cell_type": "code",
   "execution_count": null,
   "metadata": {},
   "outputs": [],
   "source": [
    "ex4 = '여기는 지금 바바바바벨랭 스터디입니다. *+_+* \\n바ㅏ벨@#랭 스터디에 오신걸 환영합니다. ^^\\n바보랭은 바abcde벨#$랭이 아닙니다. XD'\n",
    "print(ex4)"
   ]
  },
  {
   "cell_type": "code",
   "execution_count": null,
   "metadata": {
    "collapsed": true
   },
   "outputs": [],
   "source": [
    "pat = re.compile('문제')"
   ]
  },
  {
   "cell_type": "code",
   "execution_count": null,
   "metadata": {},
   "outputs": [],
   "source": [
    "#Sub\n",
    "print(pat.sub('바벨랭', ex4))"
   ]
  },
  {
   "cell_type": "markdown",
   "metadata": {},
   "source": [
    "여기는 지금 바벨랭 스터디입니다. *+_+* <br>\n",
    "바벨랭 스터디에 오신걸 환영합니다. ^^ <br>\n",
    "바보랭은 바벨랭이 아닙니다. XD <br>"
   ]
  },
  {
   "cell_type": "markdown",
   "metadata": {},
   "source": [
    "<r'바.{,5}벨+.{,5}랭'>"
   ]
  },
  {
   "cell_type": "markdown",
   "metadata": {},
   "source": [
    "# 정규식을 이용한 문자열 검색\n",
    "#### 이제 컴파일 된 패턴 객체를 이용하여 검색을 수행 해 보자. \n",
    "\n",
    "### 컴파일 된 패턴 객체는 다음과 같은 4가지 메쏘드를 제공한다.\n",
    "1. match()\t문자열의 처음부터 정규식과 매치되는지 조사한다.\n",
    "2. search()\t문자열 전체를 검색하여 정규식과 매치되는지 조사한다.\n",
    "3. findall()\t정규식과 매치되는 모든 문자열(substring)을 리스트로 리턴한다\n",
    "4. finditer()\t정규식과 매치되는 모든 문자열(substring)을 iterator 객체로 리턴한다\n",
    "\n",
    "##### match, search는 정규식과 매치될 때에는 match 객체를 리턴하고 매치되지 않을 경우에는 None을 리턴한다. 이 메써드들에 대한 간단한 예를 살펴보자."
   ]
  },
  {
   "cell_type": "code",
   "execution_count": null,
   "metadata": {},
   "outputs": [],
   "source": [
    "#match\n",
    "print(pat.match(ex4))\n",
    "print(pat.match('바바바바벨랭'))\n",
    "print(pat.match('바ㅏ벨@#랭'))"
   ]
  },
  {
   "cell_type": "code",
   "execution_count": null,
   "metadata": {},
   "outputs": [],
   "source": [
    "#search\n",
    "print(pat.search(ex4))"
   ]
  },
  {
   "cell_type": "code",
   "execution_count": null,
   "metadata": {},
   "outputs": [],
   "source": [
    "#findall\n",
    "print(pat.findall(ex4))"
   ]
  },
  {
   "cell_type": "code",
   "execution_count": null,
   "metadata": {},
   "outputs": [],
   "source": [
    "#finditer\n",
    "for babelang in pat.finditer(ex4):\n",
    "    print(babelang)\n"
   ]
  },
  {
   "cell_type": "markdown",
   "metadata": {},
   "source": [
    "# Part2"
   ]
  },
  {
   "cell_type": "markdown",
   "metadata": {},
   "source": [
    "# 메타문자\n",
    "+, *, [], {} 등의 메타문자는 매치가 진행될 때 현재 매치되고 있는 문자열을 소모한다. <br>\n",
    "문자열이 일단 소모되어 버리면 그 부분은 검색 대상에서 제외되지만 소모되지 않는 경우에는 다음에 또 다시 검색 대상이 된다고 생각하면 쉬울 것이다. <br>\n",
    "\n",
    "이번에는 이런 문자열 소모가 없는(zero-width assertions) 메타 문자들에 대해서 살펴보기로 하자.<br>"
   ]
  },
  {
   "cell_type": "markdown",
   "metadata": {},
   "source": [
    "# |\n",
    "### | 메타문자는 \"or\"의 의미와 동일하다. A|B 라는 정규식이 있다면 이것은 A 또는 B라는 의미가 된다."
   ]
  },
  {
   "cell_type": "code",
   "execution_count": null,
   "metadata": {},
   "outputs": [],
   "source": [
    "p = re.compile('Crow|Servo')\n",
    "print(p.sub('***', 'Crow Hello'))\n",
    "print(p.sub('***', 'Servo Hello'))"
   ]
  },
  {
   "cell_type": "markdown",
   "metadata": {},
   "source": [
    "# ^\n",
    "^ 메타문자는 문자열의 맨 처음과 일치함을 의미한다. 컴파일 옵션 re.MULTILINE 을 사용할 경우에는 여러줄의 문자열에서는 각 라인의 처음과 일치하게 된다."
   ]
  },
  {
   "cell_type": "code",
   "execution_count": null,
   "metadata": {},
   "outputs": [],
   "source": [
    "p = re.compile('^Life')\n",
    "print(p.sub('***', 'Life is too short and Life is hard, that is Life'))"
   ]
  },
  {
   "cell_type": "markdown",
   "metadata": {},
   "source": [
    "# $\n",
    "\n",
    "####  \\$ 메타문자는 ^ 메타문자의 반대의 경우이다. \\$는 문자열의 끝과 매치함을 의미한다."
   ]
  },
  {
   "cell_type": "code",
   "execution_count": null,
   "metadata": {},
   "outputs": [],
   "source": [
    "p = re.compile('Life$')\n",
    "print(p.sub('***', 'Life is too short and Life is hard, that is Life'))"
   ]
  },
  {
   "cell_type": "markdown",
   "metadata": {},
   "source": [
    "# \\A\n",
    "\\A는 문자열의 처음과 매치됨을 의미한다. ^와 동일한 의미이지만 re.MULTILINE 옵션을 사용할 경우에는 다르게 해석된다. re.MULTILINE 옵션을 사용할 경우 ^은 라인별 문자열의 처음과 매치되지만 \\A는 라인과 상관없이 전체 문자열의 처음하고만 매치된다.\n",
    "\n",
    "# \\Z\n",
    "\\Z는 문자열의 끝과 매치됨을 의미한다. 이것 역시 \\A와 동일하게 re.MULTILINE 옵션을 사용할 경우 $ 메타문자와는 달리 전체 문자열의 끝과 매치된다."
   ]
  },
  {
   "cell_type": "markdown",
   "metadata": {},
   "source": [
    "# \\b\n",
    "\\b는 단어 구분자(Word boundary)이다. 보통 단어는 whitespace에 의해 구분이 된다. 다음의 예를 보자."
   ]
  },
  {
   "cell_type": "code",
   "execution_count": null,
   "metadata": {},
   "outputs": [],
   "source": [
    "p = re.compile(r'\\b바벨랭\\b')\n",
    "print(p.sub('***', '여기는 바벨랭 입니다. 거기는 바벨랭이 아닙니까? 그럼 무슨바벨랭인가요?')) "
   ]
  },
  {
   "cell_type": "markdown",
   "metadata": {},
   "source": [
    "\\b 메타문자를 이용할 경우 주의해야 할 점이 한가지 있다. \\b는 파이썬 리터럴 규칙에 의하면 백스페이스(Back Space)를 의미하므로 백스페이스가 아닌 Word Boundary임을 알려주기 위해 r'\\bclass\\b' 처럼 raw string임을 알려주는 기호 r을 반드시 붙여주어야 한다."
   ]
  },
  {
   "cell_type": "markdown",
   "metadata": {},
   "source": [
    "# \\B\n",
    "\\B 메타문자는 \\b 메타문자의 반대의 경우이다. 즉, whitespace로 구분된 단어가 아닌 경우에만 매치된다.\n"
   ]
  },
  {
   "cell_type": "code",
   "execution_count": null,
   "metadata": {},
   "outputs": [],
   "source": [
    "p = re.compile(r'\\B바벨랭\\B')\n",
    "print(p.sub('***', '여기는 바벨랭 입니다. 거기는 바벨랭이 아닙니까? 그럼 무슨바벨랭인가요?')) "
   ]
  },
  {
   "cell_type": "markdown",
   "metadata": {},
   "source": [
    "# Part3"
   ]
  },
  {
   "cell_type": "markdown",
   "metadata": {},
   "source": [
    "# 그룹핑\n",
    "ABC라는 문자열이 계속해서 반복되는지 조사하는 정규식을 작성하고 싶다고 하자. 이럴 때 필요한 것이 바로 그룹핑(Grouping) 이다."
   ]
  },
  {
   "cell_type": "code",
   "execution_count": null,
   "metadata": {
    "collapsed": true
   },
   "outputs": [],
   "source": [
    "(ABC)+"
   ]
  },
  {
   "cell_type": "code",
   "execution_count": null,
   "metadata": {},
   "outputs": [],
   "source": [
    "p = re.compile('(ABC)+')\n",
    "s = p.sub('에비씨반복', 'ABCABCABC OK?')\n",
    "print(s)"
   ]
  },
  {
   "cell_type": "code",
   "execution_count": null,
   "metadata": {
    "collapsed": true
   },
   "outputs": [],
   "source": [
    "p = re.compile(r\"\\w+\\s+\\d+[-]\\d+[-]\\d+\")\n",
    "m = p.search(\"!@# 김철수 010-1234-1234 !@#\")"
   ]
  },
  {
   "cell_type": "code",
   "execution_count": null,
   "metadata": {},
   "outputs": [],
   "source": [
    "m.group()"
   ]
  },
  {
   "cell_type": "code",
   "execution_count": null,
   "metadata": {
    "collapsed": true
   },
   "outputs": [],
   "source": [
    "p = re.compile(r\"(\\w+)\\s+(\\d+[-]\\d+[-]\\d+)\")\n",
    "m = p.search(\"!@# 김철수 010-1234-1234 !@#\")"
   ]
  },
  {
   "cell_type": "code",
   "execution_count": null,
   "metadata": {},
   "outputs": [],
   "source": [
    "m.group(2)"
   ]
  },
  {
   "cell_type": "code",
   "execution_count": null,
   "metadata": {
    "collapsed": true
   },
   "outputs": [],
   "source": [
    "p = re.compile(r\"(\\w+)\\s+(\\d+[-]\\d+[-](\\d+))\")\n",
    "m = p.search(\"!@# 김철수 010-1234-1234 !@#\")"
   ]
  },
  {
   "cell_type": "code",
   "execution_count": null,
   "metadata": {},
   "outputs": [],
   "source": [
    "m.group(3)"
   ]
  },
  {
   "cell_type": "markdown",
   "metadata": {},
   "source": [
    "# 전방 탐색"
   ]
  },
  {
   "cell_type": "code",
   "execution_count": null,
   "metadata": {},
   "outputs": [],
   "source": [
    "p = re.compile(\".+:\")\n",
    "m = p.search(\"http://google.com\")\n",
    "print(m.group())"
   ]
  },
  {
   "cell_type": "markdown",
   "metadata": {},
   "source": [
    "정규식 .+: 과 일치하는 문자열로 \"http:\"가 리턴되었다. 하지만 \"http:\" 라는 검색 결과에서 \":\"을 제외하고 출력하려면 어떻게 해야 할까? <br>\n",
    "위 예는 그나마 간단하지만 훨씬 복잡한 정규식이어서 그룹핑은 추가로 할 수 없다는 조건까지 더해진다면 어떻게 해야 할까?"
   ]
  },
  {
   "cell_type": "markdown",
   "metadata": {},
   "source": [
    "이럴 때 사용할 수 있는 것이 바로 전방 탐색이다. 전방 탐색에는 긍정(Positive)과 부정(Negative)의 2종류가 있고 다음과 같이 표현된다.\n",
    "<br>\n",
    "<br>\n",
    "\n",
    "긍정형 전방 탐색((?=...)) - ... 에 해당되는 정규식과 매치되어야 하며 조건이 통과되어도 문자열이 소모되지 않는다.<br>\n",
    "부정형 전방 탐색((?!...)) - ...에 해당되는 정규식과 매치되지 않아야 하며 조건이 통과되어도 문자열이 소모되지 않는다.<br>"
   ]
  },
  {
   "cell_type": "markdown",
   "metadata": {},
   "source": [
    "# 긍정형 전방 탐색((?=...)) "
   ]
  },
  {
   "cell_type": "code",
   "execution_count": null,
   "metadata": {},
   "outputs": [],
   "source": [
    "p = re.compile(\".+(?=:)\")\n",
    "m = p.search(\"http://google.com\")\n",
    "print(m.group())"
   ]
  },
  {
   "cell_type": "markdown",
   "metadata": {},
   "source": [
    "정규식 중 :에 해당하는 부분이 긍정형 전방탐색 기법이 적용되어 (?=:) 으로 변경되었다.<br>\n",
    "이렇게 되면 기존 정규식과 검색에서는 동일한 효과를 발휘하지만 :에 해당되는 문자열이 정규식 엔진에 의해 소모되지 않아(검색에는 포함되지만 검색 결과에는 제외됨) 검색 결과에서는 :이 제거된 후 리턴되는 효과가 있다."
   ]
  },
  {
   "cell_type": "code",
   "execution_count": null,
   "metadata": {
    "collapsed": true
   },
   "outputs": [],
   "source": [
    "p = re.compile(\".*[.].*$\")"
   ]
  },
  {
   "cell_type": "markdown",
   "metadata": {},
   "source": [
    "이 정규식은 파일명 + '.' + 확장자 를 나타내는 정규식이다. 이 정규식은 foo.bar, autoexec.bat, sendmail.cf등과 매치할 것이다."
   ]
  },
  {
   "cell_type": "code",
   "execution_count": null,
   "metadata": {
    "collapsed": true
   },
   "outputs": [],
   "source": [
    "files = ['foo.bar', 'autoexec.bat', 'sendmail.cf', 'kabck.exe', 'Dummy!!!!']"
   ]
  },
  {
   "cell_type": "code",
   "execution_count": null,
   "metadata": {},
   "outputs": [],
   "source": [
    "for f in files:\n",
    "    m = p.findall(f)\n",
    "    print(m)"
   ]
  },
  {
   "cell_type": "markdown",
   "metadata": {},
   "source": [
    "자, 이제 이 정규식에 확장자가 \"bat인 파일은 제외해야 한다\"는 조건을 추가해 보자"
   ]
  },
  {
   "cell_type": "markdown",
   "metadata": {},
   "source": [
    "# 부정형 전방 탐색"
   ]
  },
  {
   "cell_type": "code",
   "execution_count": null,
   "metadata": {},
   "outputs": [],
   "source": [
    "p = re.compile(\".*[.](?!bat$).*$\")\n",
    "for f in files:\n",
    "    m = p.findall(f)\n",
    "    print(m)"
   ]
  },
  {
   "cell_type": "markdown",
   "metadata": {},
   "source": [
    "## Practice2 \n",
    "exe 역시 제외하라는 조건이 추가하라"
   ]
  },
  {
   "cell_type": "code",
   "execution_count": null,
   "metadata": {},
   "outputs": [],
   "source": [
    "p = re.compile(\".*[.](?!bat$|exe$).*$\")\n",
    "files = ['foo.bar', 'autoexec.bat', 'sendmail.cf', 'kabck.exe', 'Dummy!!!!']\n",
    "for f in files:\n",
    "    m = p.findall(f)\n",
    "    print(m)"
   ]
  },
  {
   "cell_type": "markdown",
   "metadata": {},
   "source": [
    "<a '.*[.](?!bat$|exe$).*$' >"
   ]
  },
  {
   "cell_type": "markdown",
   "metadata": {},
   "source": [
    "# Final Pracitce"
   ]
  },
  {
   "cell_type": "code",
   "execution_count": null,
   "metadata": {},
   "outputs": [],
   "source": [
    "final_practice = '안녕하세요 김미영 과장입니다. \\n저금리에 빠르게 무#담#보#로 대대대출출출출 해드리고 있어요. \\n바@벨@랭@론 010-1588-1588 연락주세요!'\n",
    "print(final_practice)"
   ]
  },
  {
   "cell_type": "markdown",
   "metadata": {},
   "source": [
    "##### 대출 및 무담보 잡아내기 위해 해당 단어 및 ***론 이 들어가는 단어에서 론을 제외한 업체이름을 찾아내야한다. <br> 또한 피해를 막기위해 번호는 *처리를 해야한다<br> 이 문제를 정규표현식으로 풀어라"
   ]
  },
  {
   "cell_type": "markdown",
   "metadata": {},
   "source": [
    "# End"
   ]
  },
  {
   "cell_type": "raw",
   "metadata": {},
   "source": [
    "print('==============')\n",
    "p1 = re.compile('[^\\w\\s\\-]') # - 를 제외한 punctuation 제거\n",
    "modified_sentence = p1.sub('', final_practice)\n",
    "print(modified_sentence)\n",
    "\n",
    "print('==============')\n",
    "p2 = re.compile('대+출+') #중복단어 제거\n",
    "modified_sentence2 = p2.sub('대출', modified_sentence)\n",
    "print(modified_sentence2)\n",
    "\n",
    "print('==============')\n",
    "p3 = re.compile('\\d{3}[-]\\d{4}[-]\\d{4}') #번호 숨김처리\n",
    "modified_sentence3 = p3.sub('***-****-****', modified_sentence2)\n",
    "print(modified_sentence3)\n",
    "\n",
    "print('==============')\n",
    "p4 = re.compile('\\w+(?=론)') #론 앞의 단어 가져오기\n",
    "pname = p4.search(modified_sentence)\n",
    "print(\"업체이름:\", pname.group())"
   ]
  }
 ],
 "metadata": {
  "kernelspec": {
   "display_name": "Python 3",
   "language": "python",
   "name": "python3"
  },
  "language_info": {
   "codemirror_mode": {
    "name": "ipython",
    "version": 3
   },
   "file_extension": ".py",
   "mimetype": "text/x-python",
   "name": "python",
   "nbconvert_exporter": "python",
   "pygments_lexer": "ipython3",
   "version": "3.6.3"
  }
 },
 "nbformat": 4,
 "nbformat_minor": 2
}
