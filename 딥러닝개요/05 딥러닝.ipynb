{
 "cells": [
  {
   "cell_type": "markdown",
   "metadata": {},
   "source": [
    "** 5-1. 딥러닝 개요 **\n",
    "** 5-2. TensorFlow 설치하기 **\n",
    "** 5-3. Jupyter Notebook **\n",
    "** 5-4. TensorFlow 기본 **"
   ]
  },
  {
   "cell_type": "markdown",
   "metadata": {},
   "source": [
    "### 5-1 딥러닝 개요\n",
    "* 딥러닝은 '특징량 추출'을 자동으로.\n",
    "* 2012년 ILSVRC (ImageNet ...) : 100만장의 이미지/100개의 물체 : AlexNet (87%)\n",
    "* 인공신경망(Artificial Neural Network, ANN) - 1940년대 (1943년)\n",
    "    + 인간의 뇌가 패턴을 인식하는 방식을 모사한 알고리즘 (인간의 신경망 모사)\n",
    "* 퍼셉트론(Perceptron) - 1958년\n",
    "    + 선형분류를 수행할 수 있는 피드포워드 뉴럴네트워크\n",
    "    + ![Image](./Perceptron.png)\n",
    "    + ![Image](./xor.png)\n",
    "* Multi-Layer Perceptrons(MLP), Backpropagation Algorithm - 1980년대\n",
    "* 딥러닝 - 현재 : 빅데이터, CPU성능, GPU, 전처리, dropout\n",
    "    + ![Image](./ann.png)\n",
    "* DNN(Deep Neural Network) : 3개 이상 중첩된 신경망\n",
    "* 학습이란? 뉴런의 접속 가중치를 조정하는것.\n",
    "\n",
    "\n",
    "\n",
    "### 5-2 TensorFlow\n",
    "- 대규모 숫자 계산을 해주는 C++로 만들어진 라이브러리\n",
    "- 최대 장점은 '자료', '커뮤니티'가 많다는 것\n",
    "\n",
    "## docker에 anaconda 설치\n",
    "> docker pull continuumio/anaconda3 (13분)\n",
    "![Image](./docker-pull.png)\n",
    "\n",
    "> docker run -i -t continuumio/anaconda3 /bin/bash\n",
    "\n",
    "> docker run -i -t -p 8866:8866 continuumio/anaconda3 /bin/bash -c \"/opt/conda/bin/conda install jupyter -y --quiet && mkdir /opt/notebooks && /opt/conda/bin/jupyter notebook --notebook-dir=/opt/notebooks --ip='*' --port=8866 --no-browser --allow-root\"\n",
    "\n",
    "\n",
    "\n",
    "### 5-3 Jupyter Notebook\n",
    "- 설치 (anaconda에 포함)\n",
    "> pip install jupyter\n",
    "- 실행\n",
    "> jupyter notebook\n",
    "- 새노트 만들기\n",
    "> 왼쪽 상단 new버튼 클릭\n",
    "- Cell 추가하기\n",
    "> Insert -> Insert Cell Below (B)\n",
    "- Cell 실행하기\n",
    "> Cell -> Run Cells (ctrl + enter)\n",
    "- 주석과 문서 입력하기\n",
    "> Cell -> Cell Type -> Markdown (M)\n",
    "> markdown 문법 사용 [https://gist.github.com/ihoneymon/652be052a0727ad59601]\n",
    "- 노트 저장\n",
    "> File -> Save and Checkpoint\n",
    "- 노트 복구\n",
    "> File -> Revert to Checkpoint\n",
    "- 시각화\n",
    "> %matplotlib inline\n",
    "- tensorflow 설체\n",
    "> !pip install tensorflow\n",
    "\n"
   ]
  },
  {
   "cell_type": "code",
   "execution_count": null,
   "metadata": {},
   "outputs": [],
   "source": [
    "%matplotlib inline\n",
    "import matplotlib.pyplot as plt\n",
    "import numpy as np\n",
    "x = np.arange(-20, 20, 0.1)\n",
    "y = np.sin(x)\n",
    "plt.plot(x,y)"
   ]
  },
  {
   "cell_type": "markdown",
   "metadata": {},
   "source": [
    "### 5-4 TensorFlow 기본\n",
    "- 데이터 플로우 그래프 (연산 정의) -> 세션 실행."
   ]
  },
  {
   "cell_type": "code",
   "execution_count": null,
   "metadata": {},
   "outputs": [],
   "source": [
    "# 상수식 연산\n",
    "import tensorflow as tf\n",
    "\n",
    "a = tf.constant(120, name='a')\n",
    "b = tf.constant(130, name='b')\n",
    "c = tf.constant(140, name='c')\n",
    "\n",
    "v = tf.Variable(0, name='v')\n",
    "\n",
    "calc_op = a + b + c\n",
    "print(calc_op)\n",
    "\n",
    "assign_op = tf.assign(v, calc_op)\n",
    "\n",
    "with tf.Session() as sess:\n",
    "    sess.run(assign_op)\n",
    "    print(sess.run(v))"
   ]
  },
  {
   "cell_type": "code",
   "execution_count": null,
   "metadata": {},
   "outputs": [],
   "source": [
    "# placeholder 사용\n",
    "a = tf.placeholder(tf.int32, [3])\n",
    "b = tf.constant(2)\n",
    "x2_op = a * b\n",
    "\n",
    "with tf.Session() as sess:\n",
    "    r1 = sess.run(x2_op, feed_dict={a:[1,2,3]})\n",
    "    print(r1)\n",
    "    r2 = sess.run(x2_op, feed_dict={a:[10,20,30]})\n",
    "    print(r2)"
   ]
  },
  {
   "cell_type": "code",
   "execution_count": null,
   "metadata": {},
   "outputs": [],
   "source": [
    "# placeholder None사용\n",
    "a = tf.placeholder(tf.int32, [None])\n",
    "b = tf.constant(2)\n",
    "x2_op = a * b\n",
    "\n",
    "with tf.Session() as sess:\n",
    "    r1 = sess.run(x2_op, feed_dict={a:[1,2,3]})\n",
    "    print(r1)\n",
    "    r2 = sess.run(x2_op, feed_dict={a:[10,20,30,40,50]})\n",
    "    print(r2)"
   ]
  },
  {
   "cell_type": "markdown",
   "metadata": {},
   "source": [
    "## BMI 처리\n",
    "![Image](./bmi.png)"
   ]
  },
  {
   "cell_type": "code",
   "execution_count": null,
   "metadata": {},
   "outputs": [],
   "source": [
    "# bmi 처리\n",
    "import pandas as pd\n",
    "import numpy as np\n",
    "import tensorflow as tf\n",
    "\n",
    "csv = pd.read_csv('./bmi.csv')\n",
    "\n",
    "# 정규화\n",
    "csv['height'] = csv['height'] / 200\n",
    "csv['weight'] = csv['weight'] / 100\n",
    "\n",
    "# one hot encoding\n",
    "bclass = {'thin':[1,0,0], 'normal':[0,1,0], 'fat':[0,0,1]}\n",
    "csv['label_pat'] = csv['label'].apply(lambda x : np.array(bclass[x]))\n",
    "\n",
    "# a = csv[:5]\n",
    "# print(a)\n",
    "# print(a[['weight', 'height']])\n",
    "# print(list(a[['weight', 'height']]))\n",
    "# print(a['label_pat'])\n",
    "# print(list(a['label_pat']))\n",
    "# return\n",
    "\n",
    "test_csv = csv[15000:20000]\n",
    "test_pat = test_csv[['weight', 'height']]\n",
    "test_ans = list(test_csv['label_pat'])\n",
    "\n",
    "x  = tf.placeholder(tf.float32, [None, 2])\n",
    "y_ = tf.placeholder(tf.float32, [None, 3])\n",
    "\n",
    "W = tf.Variable(tf.zeros([2,3]))\n",
    "b = tf.Variable(tf.zeros([3]))\n",
    "y = tf.nn.softmax(tf.matmul(x,W) + b)\n",
    "\n",
    "cost = -tf.reduce_sum(y_ * tf.log(y))\n",
    "optimizer = tf.train.GradientDescentOptimizer(0.01)\n",
    "train = optimizer.minimize(cost)\n",
    "\n",
    "predict = tf.equal(tf.argmax(y,1), tf.argmax(y_,1))\n",
    "accuracy = tf.reduce_mean(tf.cast(predict, tf.float32))\n",
    "\n",
    "with tf.Session() as sess:\n",
    "    sess.run(tf.global_variables_initializer())\n",
    "    for step in range(3500):\n",
    "        i = (step * 100) % 1000\n",
    "        rows = csv[i + 1: i + 1 + 100]\n",
    "        x_pat = rows[['weight', 'height']]\n",
    "        y_ans = list(rows['label_pat'])\n",
    "        fd = {x:x_pat, y_:y_ans}\n",
    "        sess.run(train, feed_dict=fd)\n",
    "        if step % 500 == 0:\n",
    "            cre = sess.run(cost, feed_dict=fd)\n",
    "            acc = sess.run(accuracy, feed_dict={x:test_pat, y_:test_ans})\n",
    "            print('step=', step, 'cre=', cre, 'acc=', acc)\n",
    "    \n",
    "#     r = sess.run(y, feed_dict={x:test_pat})\n",
    "#     print(r)\n",
    "#     print(test_ans[:3])\n",
    "#     print(test_ans[-3:])\n",
    "    acc = sess.run(accuracy, feed_dict={x:test_pat, y_:test_ans}) \n",
    "    print('정답률:', acc)"
   ]
  },
  {
   "cell_type": "markdown",
   "metadata": {},
   "source": [
    "![Image](./softmax.png)\n",
    "![Image](./cross_entropy.png)"
   ]
  }
 ],
 "metadata": {
  "kernelspec": {
   "display_name": "Python 3",
   "language": "python",
   "name": "python3"
  },
  "language_info": {
   "codemirror_mode": {
    "name": "ipython",
    "version": 3
   },
   "file_extension": ".py",
   "mimetype": "text/x-python",
   "name": "python",
   "nbconvert_exporter": "python",
   "pygments_lexer": "ipython3",
   "version": "3.6.4"
  }
 },
 "nbformat": 4,
 "nbformat_minor": 2
}
